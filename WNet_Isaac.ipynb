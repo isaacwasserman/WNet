{
 "cells": [
  {
   "cell_type": "code",
   "execution_count": 8,
   "metadata": {},
   "outputs": [],
   "source": [
    "import numpy as np\n",
    "import torch\n",
    "import torchvision\n",
    "from glob import glob\n",
    "import os\n",
    "from datetime import datetime\n",
    "\n",
    "import src.wnet as wnet\n",
    "\n",
    "device = 'cuda'"
   ]
  },
  {
   "cell_type": "code",
   "execution_count": 9,
   "metadata": {},
   "outputs": [],
   "source": [
    "# Construct Dataset\n",
    "class BSDS500_dataset(torch.utils.data.Dataset):\n",
    "    def __init__(self, root_dir, subset):\n",
    "        self.root_dir = root_dir\n",
    "        self.image_paths = glob(os.path.join(root_dir, 'BSDS500', 'data', 'images', subset, '*.jpg'))\n",
    "        self.image_sizes = [np.take(torchvision.io.read_image(img_path).shape, [1,2]) for img_path in self.image_paths]\n",
    "        self.image_size = (224, 224)\n",
    "        \n",
    "        self.max_image = None\n",
    "        self.min_image = None\n",
    "        for i in range(self.__len__()):\n",
    "            image = torchvision.io.read_image(self.image_paths[i]).float()\n",
    "            image = torchvision.transforms.functional.resize(image, self.image_size, interpolation=torchvision.transforms.functional.InterpolationMode.BILINEAR)\n",
    "            self.max_image = torch.max(self.max_image, image) if self.max_image is not None else image\n",
    "            self.min_image = torch.min(self.min_image, image) if self.min_image is not None else image\n",
    "\n",
    "    def __len__(self):\n",
    "        return len(self.image_paths)\n",
    "\n",
    "    def size(self, idx=None):\n",
    "        s = [self.__len__(), 3, self.image_size[0], self.image_size[1]]\n",
    "        if idx is not None:\n",
    "            s = s[idx]\n",
    "        else:\n",
    "            s = torch.Size(s)\n",
    "        return s\n",
    "\n",
    "    def __getitem__(self, idx):\n",
    "        img_path = self.image_paths[idx]\n",
    "        image = torchvision.io.read_image(img_path)\n",
    "        image = image.float()\n",
    "        image = torchvision.transforms.functional.resize(image, self.image_size, interpolation=torchvision.transforms.functional.InterpolationMode.BILINEAR)\n",
    "        image = (image - self.min_image) / (self.max_image - self.min_image)\n",
    "        return image.to(device)\n",
    "\n",
    "class BSDS500():\n",
    "    def __init__(self, root_dir, batch_size):\n",
    "        self.trainset = BSDS500_dataset(root_dir, 'train')\n",
    "        self.trainloader = torch.utils.data.DataLoader(self.trainset, batch_size=batch_size, shuffle=True)\n",
    "        self.valset = BSDS500_dataset(root_dir, 'val')\n",
    "        self.valloader = torch.utils.data.DataLoader(self.valset, batch_size=batch_size, shuffle=False)\n",
    "        self.testset = BSDS500_dataset(root_dir, 'test')\n",
    "        self.testloader = torch.utils.data.DataLoader(self.testset, batch_size=batch_size, shuffle=False)\n",
    "\n",
    "    def get_trainloader(self):\n",
    "        return self.trainloader\n",
    "    \n",
    "    def get_valloader(self):\n",
    "        return self.valloader\n",
    "\n",
    "    def get_testloader(self):\n",
    "        return self.testloader\n",
    "\n",
    "\n",
    "class PascalVOC_dataset(torch.utils.data.Dataset):\n",
    "    def __init__(self, root_dir, subset):\n",
    "        self.root_dir = root_dir\n",
    "        with open(os.path.join(root_dir, 'VOC2012', 'ImageSets', 'Segmentation', subset + '.txt'), 'r') as f:\n",
    "            self.image_names = f.read().split(\"\\n\")\n",
    "        self.image_paths = [os.path.join(root_dir, 'VOC2012', 'JPEGImages', image_name + '.jpg') for image_name in self.image_names if image_name != '']\n",
    "        self.image_sizes = [np.take(torchvision.io.read_image(img_path).shape, [1,2]) for img_path in self.image_paths]\n",
    "        self.image_size = (224, 224)\n",
    "        self.max_image = None\n",
    "        self.min_image = None\n",
    "        for i in range(self.__len__()):\n",
    "            image = torchvision.io.read_image(self.image_paths[i]).float()\n",
    "            image = torchvision.transforms.functional.resize(image, self.image_size, interpolation=torchvision.transforms.functional.InterpolationMode.BILINEAR)\n",
    "            self.max_image = torch.max(self.max_image, image) if self.max_image is not None else image\n",
    "            self.min_image = torch.min(self.min_image, image) if self.min_image is not None else image\n",
    "\n",
    "    def __len__(self):\n",
    "        return len(self.image_paths)\n",
    "\n",
    "    def size(self, idx=None):\n",
    "        s = [self.__len__(), 3, self.image_size[0], self.image_size[1]]\n",
    "        if idx is not None:\n",
    "            s = s[idx]\n",
    "        else:\n",
    "            s = torch.Size(s)\n",
    "        return s\n",
    "\n",
    "    def __getitem__(self, idx):\n",
    "        img_path = self.image_paths[idx]\n",
    "        image = torchvision.io.read_image(img_path)\n",
    "        image = image.float()\n",
    "        image = torchvision.transforms.functional.resize(image, self.image_size, interpolation=torchvision.transforms.functional.InterpolationMode.BILINEAR)\n",
    "        image = (image - self.min_image) / (self.max_image - self.min_image)\n",
    "        return image.to(device)\n",
    "\n",
    "class PascalVOC():\n",
    "    def __init__(self, root_dir, batch_size):\n",
    "        self.trainset = PascalVOC_dataset(root_dir, 'train')\n",
    "        self.trainloader = torch.utils.data.DataLoader(self.trainset, batch_size=batch_size, shuffle=True)\n",
    "        self.valset = PascalVOC_dataset(root_dir, 'val')\n",
    "        self.valloader = torch.utils.data.DataLoader(self.valset, batch_size=batch_size, shuffle=False)\n",
    "\n",
    "    def get_trainloader(self):\n",
    "        return self.trainloader\n",
    "    \n",
    "    def get_valloader(self):\n",
    "        return self.valloader\n",
    "\n",
    "if device == \"mps\":\n",
    "    batch_size = 16\n",
    "else:\n",
    "    batch_size = 8\n",
    "\n",
    "pascal = PascalVOC('../VOCdevkit', batch_size)\n",
    "X_train = pascal.get_trainloader()\n",
    "y_train = pascal.get_trainloader()\n",
    "X_val = pascal.get_valloader()\n",
    "y_val = pascal.get_valloader()\n",
    "bsds = BSDS500('../BSDS500', batch_size)\n",
    "X_test = bsds.get_testloader()\n",
    "y_test = bsds.get_testloader()"
   ]
  },
  {
   "cell_type": "code",
   "execution_count": 10,
   "metadata": {},
   "outputs": [
    {
     "name": "stderr",
     "output_type": "stream",
     "text": [
      "TRAIN: 100%|██████████| 183/183 [01:38<00:00,  1.86it/s]\n",
      "  VAL: 100%|██████████| 182/182 [01:00<00:00,  3.02it/s]\n"
     ]
    },
    {
     "name": "stdout",
     "output_type": "stream",
     "text": [
      "EPOCH:      1\n",
      "Train loss: 1.7385E-01\n",
      "Valid loss: 1.5708E-01\n"
     ]
    },
    {
     "name": "stderr",
     "output_type": "stream",
     "text": [
      "TRAIN: 100%|██████████| 183/183 [01:39<00:00,  1.85it/s]\n",
      "  VAL: 100%|██████████| 182/182 [01:01<00:00,  2.98it/s]\n"
     ]
    },
    {
     "name": "stdout",
     "output_type": "stream",
     "text": [
      "EPOCH:      2\n",
      "Train loss: 9.8881E-02\n",
      "Valid loss: 6.9409E-02\n"
     ]
    },
    {
     "name": "stderr",
     "output_type": "stream",
     "text": [
      "TRAIN: 100%|██████████| 183/183 [01:40<00:00,  1.82it/s]\n",
      "  VAL: 100%|██████████| 182/182 [01:02<00:00,  2.93it/s]\n"
     ]
    },
    {
     "name": "stdout",
     "output_type": "stream",
     "text": [
      "EPOCH:      3\n",
      "Train loss: 4.3670E-02\n",
      "Valid loss: 2.9462E-02\n"
     ]
    },
    {
     "name": "stderr",
     "output_type": "stream",
     "text": [
      "TRAIN: 100%|██████████| 183/183 [01:42<00:00,  1.79it/s]\n",
      "  VAL: 100%|██████████| 182/182 [01:03<00:00,  2.88it/s]\n"
     ]
    },
    {
     "name": "stdout",
     "output_type": "stream",
     "text": [
      "EPOCH:      4\n",
      "Train loss: 3.0132E-02\n",
      "Valid loss: 3.0645E-02\n"
     ]
    },
    {
     "name": "stderr",
     "output_type": "stream",
     "text": [
      "TRAIN: 100%|██████████| 183/183 [01:41<00:00,  1.81it/s]\n",
      "  VAL: 100%|██████████| 182/182 [01:06<00:00,  2.75it/s]\n"
     ]
    },
    {
     "name": "stdout",
     "output_type": "stream",
     "text": [
      "EPOCH:      5\n",
      "Train loss: 2.6654E-02\n",
      "Valid loss: 2.5772E-02\n"
     ]
    },
    {
     "name": "stderr",
     "output_type": "stream",
     "text": [
      "TRAIN: 100%|██████████| 183/183 [01:43<00:00,  1.77it/s]\n",
      "  VAL: 100%|██████████| 182/182 [01:06<00:00,  2.74it/s]\n"
     ]
    },
    {
     "name": "stdout",
     "output_type": "stream",
     "text": [
      "EPOCH:      6\n",
      "Train loss: 2.4448E-02\n",
      "Valid loss: 2.2754E-02\n"
     ]
    },
    {
     "name": "stderr",
     "output_type": "stream",
     "text": [
      "TRAIN: 100%|██████████| 183/183 [01:45<00:00,  1.73it/s]\n",
      "  VAL: 100%|██████████| 182/182 [01:03<00:00,  2.85it/s]\n"
     ]
    },
    {
     "name": "stdout",
     "output_type": "stream",
     "text": [
      "EPOCH:      7\n",
      "Train loss: 2.1275E-02\n",
      "Valid loss: 2.1062E-02\n"
     ]
    },
    {
     "name": "stderr",
     "output_type": "stream",
     "text": [
      "TRAIN: 100%|██████████| 183/183 [01:43<00:00,  1.78it/s]\n",
      "  VAL: 100%|██████████| 182/182 [01:02<00:00,  2.89it/s]\n"
     ]
    },
    {
     "name": "stdout",
     "output_type": "stream",
     "text": [
      "EPOCH:      8\n",
      "Train loss: 1.8547E-02\n",
      "Valid loss: 1.6771E-02\n"
     ]
    },
    {
     "name": "stderr",
     "output_type": "stream",
     "text": [
      "TRAIN: 100%|██████████| 183/183 [01:42<00:00,  1.78it/s]\n",
      "  VAL: 100%|██████████| 182/182 [01:03<00:00,  2.88it/s]\n"
     ]
    },
    {
     "name": "stdout",
     "output_type": "stream",
     "text": [
      "EPOCH:      9\n",
      "Train loss: 1.8933E-02\n",
      "Valid loss: 1.8305E-02\n"
     ]
    },
    {
     "name": "stderr",
     "output_type": "stream",
     "text": [
      "TRAIN: 100%|██████████| 183/183 [01:42<00:00,  1.79it/s]\n",
      "  VAL: 100%|██████████| 182/182 [01:02<00:00,  2.91it/s]\n"
     ]
    },
    {
     "name": "stdout",
     "output_type": "stream",
     "text": [
      "EPOCH:      10\n",
      "Train loss: 1.7378E-02\n",
      "Valid loss: 2.0028E-02\n"
     ]
    },
    {
     "name": "stderr",
     "output_type": "stream",
     "text": [
      "TRAIN: 100%|██████████| 183/183 [01:39<00:00,  1.83it/s]\n",
      "  VAL: 100%|██████████| 182/182 [01:01<00:00,  2.94it/s]\n"
     ]
    },
    {
     "name": "stdout",
     "output_type": "stream",
     "text": [
      "EPOCH:      11\n",
      "Train loss: 1.6613E-02\n",
      "Valid loss: 1.5853E-02\n"
     ]
    },
    {
     "name": "stderr",
     "output_type": "stream",
     "text": [
      "TRAIN: 100%|██████████| 183/183 [01:39<00:00,  1.83it/s]\n",
      "  VAL: 100%|██████████| 182/182 [01:01<00:00,  2.95it/s]\n"
     ]
    },
    {
     "name": "stdout",
     "output_type": "stream",
     "text": [
      "EPOCH:      12\n",
      "Train loss: 1.6134E-02\n",
      "Valid loss: 1.8034E-02\n"
     ]
    },
    {
     "name": "stderr",
     "output_type": "stream",
     "text": [
      "TRAIN: 100%|██████████| 183/183 [01:39<00:00,  1.83it/s]\n",
      "  VAL: 100%|██████████| 182/182 [01:01<00:00,  2.96it/s]\n"
     ]
    },
    {
     "name": "stdout",
     "output_type": "stream",
     "text": [
      "EPOCH:      13\n",
      "Train loss: 1.4625E-02\n",
      "Valid loss: 1.5682E-02\n"
     ]
    },
    {
     "name": "stderr",
     "output_type": "stream",
     "text": [
      "TRAIN: 100%|██████████| 183/183 [01:40<00:00,  1.82it/s]\n",
      "  VAL: 100%|██████████| 182/182 [01:05<00:00,  2.76it/s]\n"
     ]
    },
    {
     "name": "stdout",
     "output_type": "stream",
     "text": [
      "EPOCH:      14\n",
      "Train loss: 1.5924E-02\n",
      "Valid loss: 1.4704E-02\n"
     ]
    },
    {
     "name": "stderr",
     "output_type": "stream",
     "text": [
      "TRAIN: 100%|██████████| 183/183 [01:39<00:00,  1.84it/s]\n",
      "  VAL: 100%|██████████| 182/182 [01:01<00:00,  2.98it/s]\n"
     ]
    },
    {
     "name": "stdout",
     "output_type": "stream",
     "text": [
      "EPOCH:      15\n",
      "Train loss: 1.4275E-02\n",
      "Valid loss: 1.5023E-02\n"
     ]
    },
    {
     "name": "stderr",
     "output_type": "stream",
     "text": [
      "TRAIN: 100%|██████████| 183/183 [01:39<00:00,  1.84it/s]\n",
      "  VAL: 100%|██████████| 182/182 [01:01<00:00,  2.96it/s]\n"
     ]
    },
    {
     "name": "stdout",
     "output_type": "stream",
     "text": [
      "EPOCH:      16\n",
      "Train loss: 1.5740E-02\n",
      "Valid loss: 1.3780E-02\n"
     ]
    },
    {
     "name": "stderr",
     "output_type": "stream",
     "text": [
      "TRAIN: 100%|██████████| 183/183 [01:40<00:00,  1.83it/s]\n",
      "  VAL: 100%|██████████| 182/182 [01:01<00:00,  2.94it/s]\n"
     ]
    },
    {
     "name": "stdout",
     "output_type": "stream",
     "text": [
      "EPOCH:      17\n",
      "Train loss: 1.4072E-02\n",
      "Valid loss: 1.2738E-02\n"
     ]
    },
    {
     "name": "stderr",
     "output_type": "stream",
     "text": [
      "TRAIN: 100%|██████████| 183/183 [01:40<00:00,  1.82it/s]\n",
      "  VAL: 100%|██████████| 182/182 [01:01<00:00,  2.95it/s]\n"
     ]
    },
    {
     "name": "stdout",
     "output_type": "stream",
     "text": [
      "EPOCH:      18\n",
      "Train loss: 1.3704E-02\n",
      "Valid loss: 1.4189E-02\n"
     ]
    },
    {
     "name": "stderr",
     "output_type": "stream",
     "text": [
      "TRAIN: 100%|██████████| 183/183 [01:40<00:00,  1.83it/s]\n",
      "  VAL: 100%|██████████| 182/182 [01:02<00:00,  2.92it/s]\n"
     ]
    },
    {
     "name": "stdout",
     "output_type": "stream",
     "text": [
      "EPOCH:      19\n",
      "Train loss: 1.2795E-02\n",
      "Valid loss: 1.3122E-02\n"
     ]
    },
    {
     "name": "stderr",
     "output_type": "stream",
     "text": [
      "TRAIN: 100%|██████████| 183/183 [01:45<00:00,  1.74it/s]\n",
      "  VAL: 100%|██████████| 182/182 [01:04<00:00,  2.82it/s]\n"
     ]
    },
    {
     "name": "stdout",
     "output_type": "stream",
     "text": [
      "EPOCH:      20\n",
      "Train loss: 1.3819E-02\n",
      "Valid loss: 1.2236E-02\n"
     ]
    },
    {
     "name": "stderr",
     "output_type": "stream",
     "text": [
      "TRAIN: 100%|██████████| 183/183 [01:44<00:00,  1.76it/s]\n",
      "  VAL: 100%|██████████| 182/182 [01:03<00:00,  2.85it/s]\n"
     ]
    },
    {
     "name": "stdout",
     "output_type": "stream",
     "text": [
      "EPOCH:      21\n",
      "Train loss: 1.2865E-02\n",
      "Valid loss: 1.3193E-02\n"
     ]
    },
    {
     "name": "stderr",
     "output_type": "stream",
     "text": [
      "TRAIN: 100%|██████████| 183/183 [01:42<00:00,  1.78it/s]\n",
      "  VAL: 100%|██████████| 182/182 [01:03<00:00,  2.88it/s]\n"
     ]
    },
    {
     "name": "stdout",
     "output_type": "stream",
     "text": [
      "EPOCH:      22\n",
      "Train loss: 1.3148E-02\n",
      "Valid loss: 1.2847E-02\n"
     ]
    },
    {
     "name": "stderr",
     "output_type": "stream",
     "text": [
      "TRAIN: 100%|██████████| 183/183 [01:43<00:00,  1.77it/s]\n",
      "  VAL: 100%|██████████| 182/182 [01:03<00:00,  2.87it/s]\n"
     ]
    },
    {
     "name": "stdout",
     "output_type": "stream",
     "text": [
      "EPOCH:      23\n",
      "Train loss: 1.2812E-02\n",
      "Valid loss: 1.1883E-02\n"
     ]
    },
    {
     "name": "stderr",
     "output_type": "stream",
     "text": [
      "TRAIN: 100%|██████████| 183/183 [01:39<00:00,  1.83it/s]\n",
      "  VAL: 100%|██████████| 182/182 [01:01<00:00,  2.95it/s]\n"
     ]
    },
    {
     "name": "stdout",
     "output_type": "stream",
     "text": [
      "EPOCH:      24\n",
      "Train loss: 1.2694E-02\n",
      "Valid loss: 1.4161E-02\n"
     ]
    },
    {
     "name": "stderr",
     "output_type": "stream",
     "text": [
      "TRAIN: 100%|██████████| 183/183 [01:39<00:00,  1.83it/s]\n",
      "  VAL: 100%|██████████| 182/182 [01:02<00:00,  2.93it/s]\n"
     ]
    },
    {
     "name": "stdout",
     "output_type": "stream",
     "text": [
      "EPOCH:      25\n",
      "Train loss: 1.2415E-02\n",
      "Valid loss: 1.3146E-02\n"
     ]
    },
    {
     "name": "stderr",
     "output_type": "stream",
     "text": [
      "TRAIN: 100%|██████████| 183/183 [01:40<00:00,  1.83it/s]\n",
      "  VAL: 100%|██████████| 182/182 [01:01<00:00,  2.95it/s]\n"
     ]
    },
    {
     "name": "stdout",
     "output_type": "stream",
     "text": [
      "EPOCH:      26\n",
      "Train loss: 1.1836E-02\n",
      "Valid loss: 1.2739E-02\n"
     ]
    },
    {
     "name": "stderr",
     "output_type": "stream",
     "text": [
      "TRAIN: 100%|██████████| 183/183 [01:39<00:00,  1.83it/s]\n",
      "  VAL: 100%|██████████| 182/182 [01:01<00:00,  2.98it/s]\n"
     ]
    },
    {
     "name": "stdout",
     "output_type": "stream",
     "text": [
      "EPOCH:      27\n",
      "Train loss: 1.1835E-02\n",
      "Valid loss: 1.1147E-02\n"
     ]
    },
    {
     "name": "stderr",
     "output_type": "stream",
     "text": [
      "TRAIN: 100%|██████████| 183/183 [01:39<00:00,  1.84it/s]\n",
      "  VAL: 100%|██████████| 182/182 [01:01<00:00,  2.95it/s]\n"
     ]
    },
    {
     "name": "stdout",
     "output_type": "stream",
     "text": [
      "EPOCH:      28\n",
      "Train loss: 1.1793E-02\n",
      "Valid loss: 1.1062E-02\n"
     ]
    },
    {
     "name": "stderr",
     "output_type": "stream",
     "text": [
      "TRAIN: 100%|██████████| 183/183 [01:39<00:00,  1.83it/s]\n",
      "  VAL: 100%|██████████| 182/182 [01:01<00:00,  2.95it/s]\n"
     ]
    },
    {
     "name": "stdout",
     "output_type": "stream",
     "text": [
      "EPOCH:      29\n",
      "Train loss: 1.1455E-02\n",
      "Valid loss: 1.1149E-02\n"
     ]
    },
    {
     "name": "stderr",
     "output_type": "stream",
     "text": [
      "TRAIN: 100%|██████████| 183/183 [01:39<00:00,  1.84it/s]\n",
      "  VAL: 100%|██████████| 182/182 [01:01<00:00,  2.94it/s]\n"
     ]
    },
    {
     "name": "stdout",
     "output_type": "stream",
     "text": [
      "EPOCH:      30\n",
      "Train loss: 1.1229E-02\n",
      "Valid loss: 1.0270E-02\n"
     ]
    },
    {
     "name": "stderr",
     "output_type": "stream",
     "text": [
      "TRAIN: 100%|██████████| 183/183 [01:39<00:00,  1.83it/s]\n",
      "  VAL: 100%|██████████| 182/182 [01:01<00:00,  2.94it/s]\n"
     ]
    },
    {
     "name": "stdout",
     "output_type": "stream",
     "text": [
      "EPOCH:      31\n",
      "Train loss: 1.0739E-02\n",
      "Valid loss: 1.0588E-02\n"
     ]
    },
    {
     "name": "stderr",
     "output_type": "stream",
     "text": [
      "TRAIN: 100%|██████████| 183/183 [01:40<00:00,  1.83it/s]\n",
      "  VAL: 100%|██████████| 182/182 [01:02<00:00,  2.93it/s]\n"
     ]
    },
    {
     "name": "stdout",
     "output_type": "stream",
     "text": [
      "EPOCH:      32\n",
      "Train loss: 1.1619E-02\n",
      "Valid loss: 1.1368E-02\n"
     ]
    },
    {
     "name": "stderr",
     "output_type": "stream",
     "text": [
      "TRAIN: 100%|██████████| 183/183 [01:40<00:00,  1.82it/s]\n",
      "  VAL: 100%|██████████| 182/182 [01:01<00:00,  2.94it/s]\n"
     ]
    },
    {
     "name": "stdout",
     "output_type": "stream",
     "text": [
      "EPOCH:      33\n",
      "Train loss: 1.1126E-02\n",
      "Valid loss: 1.1888E-02\n"
     ]
    },
    {
     "name": "stderr",
     "output_type": "stream",
     "text": [
      "TRAIN: 100%|██████████| 183/183 [01:40<00:00,  1.82it/s]\n",
      "  VAL: 100%|██████████| 182/182 [01:02<00:00,  2.93it/s]\n"
     ]
    },
    {
     "name": "stdout",
     "output_type": "stream",
     "text": [
      "EPOCH:      34\n",
      "Train loss: 1.0902E-02\n",
      "Valid loss: 1.1751E-02\n"
     ]
    },
    {
     "name": "stderr",
     "output_type": "stream",
     "text": [
      "TRAIN: 100%|██████████| 183/183 [01:40<00:00,  1.82it/s]\n",
      "  VAL: 100%|██████████| 182/182 [01:02<00:00,  2.90it/s]\n"
     ]
    },
    {
     "name": "stdout",
     "output_type": "stream",
     "text": [
      "EPOCH:      35\n",
      "Train loss: 1.0693E-02\n",
      "Valid loss: 1.0322E-02\n"
     ]
    },
    {
     "name": "stderr",
     "output_type": "stream",
     "text": [
      "TRAIN: 100%|██████████| 183/183 [01:40<00:00,  1.82it/s]\n",
      "  VAL: 100%|██████████| 182/182 [01:02<00:00,  2.91it/s]\n"
     ]
    },
    {
     "name": "stdout",
     "output_type": "stream",
     "text": [
      "EPOCH:      36\n",
      "Train loss: 1.0423E-02\n",
      "Valid loss: 1.1229E-02\n"
     ]
    },
    {
     "name": "stderr",
     "output_type": "stream",
     "text": [
      "TRAIN: 100%|██████████| 183/183 [01:40<00:00,  1.83it/s]\n",
      "  VAL: 100%|██████████| 182/182 [01:02<00:00,  2.92it/s]\n"
     ]
    },
    {
     "name": "stdout",
     "output_type": "stream",
     "text": [
      "EPOCH:      37\n",
      "Train loss: 1.1088E-02\n",
      "Valid loss: 1.0031E-02\n"
     ]
    },
    {
     "name": "stderr",
     "output_type": "stream",
     "text": [
      "TRAIN: 100%|██████████| 183/183 [01:45<00:00,  1.74it/s]\n",
      "  VAL: 100%|██████████| 182/182 [01:03<00:00,  2.85it/s]\n"
     ]
    },
    {
     "name": "stdout",
     "output_type": "stream",
     "text": [
      "EPOCH:      38\n",
      "Train loss: 1.0915E-02\n",
      "Valid loss: 1.0344E-02\n"
     ]
    },
    {
     "name": "stderr",
     "output_type": "stream",
     "text": [
      "TRAIN: 100%|██████████| 183/183 [01:43<00:00,  1.77it/s]\n",
      "  VAL: 100%|██████████| 182/182 [01:04<00:00,  2.82it/s]\n"
     ]
    },
    {
     "name": "stdout",
     "output_type": "stream",
     "text": [
      "EPOCH:      39\n",
      "Train loss: 1.1215E-02\n",
      "Valid loss: 9.5634E-03\n"
     ]
    },
    {
     "name": "stderr",
     "output_type": "stream",
     "text": [
      "TRAIN: 100%|██████████| 183/183 [01:43<00:00,  1.77it/s]\n",
      "  VAL: 100%|██████████| 182/182 [01:03<00:00,  2.87it/s]\n"
     ]
    },
    {
     "name": "stdout",
     "output_type": "stream",
     "text": [
      "EPOCH:      40\n",
      "Train loss: 9.7443E-03\n",
      "Valid loss: 9.5045E-03\n"
     ]
    },
    {
     "name": "stderr",
     "output_type": "stream",
     "text": [
      "TRAIN: 100%|██████████| 183/183 [01:43<00:00,  1.77it/s]\n",
      "  VAL: 100%|██████████| 182/182 [01:02<00:00,  2.90it/s]\n"
     ]
    },
    {
     "name": "stdout",
     "output_type": "stream",
     "text": [
      "EPOCH:      41\n",
      "Train loss: 9.6243E-03\n",
      "Valid loss: 1.0544E-02\n"
     ]
    },
    {
     "name": "stderr",
     "output_type": "stream",
     "text": [
      "TRAIN: 100%|██████████| 183/183 [01:40<00:00,  1.82it/s]\n",
      "  VAL: 100%|██████████| 182/182 [01:02<00:00,  2.93it/s]\n"
     ]
    },
    {
     "name": "stdout",
     "output_type": "stream",
     "text": [
      "EPOCH:      42\n",
      "Train loss: 1.0485E-02\n",
      "Valid loss: 9.3574E-03\n"
     ]
    },
    {
     "name": "stderr",
     "output_type": "stream",
     "text": [
      "TRAIN: 100%|██████████| 183/183 [01:39<00:00,  1.84it/s]\n",
      "  VAL: 100%|██████████| 182/182 [01:01<00:00,  2.95it/s]\n"
     ]
    },
    {
     "name": "stdout",
     "output_type": "stream",
     "text": [
      "EPOCH:      43\n",
      "Train loss: 9.6056E-03\n",
      "Valid loss: 9.5762E-03\n"
     ]
    },
    {
     "name": "stderr",
     "output_type": "stream",
     "text": [
      "TRAIN: 100%|██████████| 183/183 [01:40<00:00,  1.82it/s]\n",
      "  VAL: 100%|██████████| 182/182 [01:02<00:00,  2.93it/s]\n"
     ]
    },
    {
     "name": "stdout",
     "output_type": "stream",
     "text": [
      "EPOCH:      44\n",
      "Train loss: 9.8299E-03\n",
      "Valid loss: 9.4591E-03\n"
     ]
    },
    {
     "name": "stderr",
     "output_type": "stream",
     "text": [
      "TRAIN: 100%|██████████| 183/183 [01:39<00:00,  1.83it/s]\n",
      "  VAL: 100%|██████████| 182/182 [01:01<00:00,  2.98it/s]\n"
     ]
    },
    {
     "name": "stdout",
     "output_type": "stream",
     "text": [
      "EPOCH:      45\n",
      "Train loss: 9.5569E-03\n",
      "Valid loss: 1.0192E-02\n"
     ]
    },
    {
     "name": "stderr",
     "output_type": "stream",
     "text": [
      "TRAIN: 100%|██████████| 183/183 [01:39<00:00,  1.83it/s]\n",
      "  VAL: 100%|██████████| 182/182 [01:01<00:00,  2.96it/s]\n"
     ]
    },
    {
     "name": "stdout",
     "output_type": "stream",
     "text": [
      "EPOCH:      46\n",
      "Train loss: 9.5901E-03\n",
      "Valid loss: 9.2126E-03\n"
     ]
    },
    {
     "name": "stderr",
     "output_type": "stream",
     "text": [
      "TRAIN: 100%|██████████| 183/183 [01:39<00:00,  1.84it/s]\n",
      "  VAL: 100%|██████████| 182/182 [01:00<00:00,  3.00it/s]\n"
     ]
    },
    {
     "name": "stdout",
     "output_type": "stream",
     "text": [
      "EPOCH:      47\n",
      "Train loss: 1.0663E-02\n",
      "Valid loss: 9.1426E-03\n"
     ]
    },
    {
     "name": "stderr",
     "output_type": "stream",
     "text": [
      "TRAIN: 100%|██████████| 183/183 [01:39<00:00,  1.84it/s]\n",
      "  VAL: 100%|██████████| 182/182 [01:01<00:00,  2.96it/s]\n"
     ]
    },
    {
     "name": "stdout",
     "output_type": "stream",
     "text": [
      "EPOCH:      48\n",
      "Train loss: 9.8076E-03\n",
      "Valid loss: 8.6903E-03\n"
     ]
    },
    {
     "name": "stderr",
     "output_type": "stream",
     "text": [
      "TRAIN: 100%|██████████| 183/183 [01:39<00:00,  1.85it/s]\n",
      "  VAL: 100%|██████████| 182/182 [01:00<00:00,  3.03it/s]\n"
     ]
    },
    {
     "name": "stdout",
     "output_type": "stream",
     "text": [
      "EPOCH:      49\n",
      "Train loss: 9.9038E-03\n",
      "Valid loss: 9.4334E-03\n"
     ]
    },
    {
     "name": "stderr",
     "output_type": "stream",
     "text": [
      "TRAIN: 100%|██████████| 183/183 [01:38<00:00,  1.86it/s]\n",
      "  VAL: 100%|██████████| 182/182 [01:00<00:00,  2.99it/s]\n"
     ]
    },
    {
     "name": "stdout",
     "output_type": "stream",
     "text": [
      "EPOCH:      50\n",
      "Train loss: 9.2062E-03\n",
      "Valid loss: 9.3837E-03\n"
     ]
    },
    {
     "name": "stderr",
     "output_type": "stream",
     "text": [
      "TRAIN: 100%|██████████| 183/183 [01:39<00:00,  1.84it/s]\n",
      "  VAL: 100%|██████████| 182/182 [01:01<00:00,  2.97it/s]\n"
     ]
    },
    {
     "name": "stdout",
     "output_type": "stream",
     "text": [
      "EPOCH:      51\n",
      "Train loss: 8.9909E-03\n",
      "Valid loss: 8.4353E-03\n"
     ]
    },
    {
     "name": "stderr",
     "output_type": "stream",
     "text": [
      "TRAIN: 100%|██████████| 183/183 [01:38<00:00,  1.85it/s]\n",
      "  VAL: 100%|██████████| 182/182 [01:00<00:00,  3.00it/s]\n"
     ]
    },
    {
     "name": "stdout",
     "output_type": "stream",
     "text": [
      "EPOCH:      52\n",
      "Train loss: 9.0470E-03\n",
      "Valid loss: 8.7779E-03\n"
     ]
    },
    {
     "name": "stderr",
     "output_type": "stream",
     "text": [
      "TRAIN: 100%|██████████| 183/183 [01:41<00:00,  1.81it/s]\n",
      "  VAL: 100%|██████████| 182/182 [01:02<00:00,  2.89it/s]\n"
     ]
    },
    {
     "name": "stdout",
     "output_type": "stream",
     "text": [
      "EPOCH:      53\n",
      "Train loss: 9.1103E-03\n",
      "Valid loss: 8.8317E-03\n"
     ]
    },
    {
     "name": "stderr",
     "output_type": "stream",
     "text": [
      "TRAIN: 100%|██████████| 183/183 [01:41<00:00,  1.81it/s]\n",
      "  VAL: 100%|██████████| 182/182 [01:01<00:00,  2.98it/s]\n"
     ]
    },
    {
     "name": "stdout",
     "output_type": "stream",
     "text": [
      "EPOCH:      54\n",
      "Train loss: 8.8810E-03\n",
      "Valid loss: 8.6742E-03\n"
     ]
    },
    {
     "name": "stderr",
     "output_type": "stream",
     "text": [
      "TRAIN: 100%|██████████| 183/183 [01:40<00:00,  1.82it/s]\n",
      "  VAL: 100%|██████████| 182/182 [01:01<00:00,  2.98it/s]\n"
     ]
    },
    {
     "name": "stdout",
     "output_type": "stream",
     "text": [
      "EPOCH:      55\n",
      "Train loss: 8.8256E-03\n",
      "Valid loss: 8.6871E-03\n"
     ]
    },
    {
     "name": "stderr",
     "output_type": "stream",
     "text": [
      "TRAIN: 100%|██████████| 183/183 [01:40<00:00,  1.82it/s]\n",
      "  VAL: 100%|██████████| 182/182 [01:01<00:00,  2.97it/s]\n"
     ]
    },
    {
     "name": "stdout",
     "output_type": "stream",
     "text": [
      "EPOCH:      56\n",
      "Train loss: 8.7319E-03\n",
      "Valid loss: 8.9481E-03\n"
     ]
    },
    {
     "name": "stderr",
     "output_type": "stream",
     "text": [
      "TRAIN: 100%|██████████| 183/183 [01:38<00:00,  1.86it/s]\n",
      "  VAL: 100%|██████████| 182/182 [00:59<00:00,  3.08it/s]\n"
     ]
    },
    {
     "name": "stdout",
     "output_type": "stream",
     "text": [
      "EPOCH:      57\n",
      "Train loss: 9.1459E-03\n",
      "Valid loss: 1.0980E-02\n"
     ]
    },
    {
     "name": "stderr",
     "output_type": "stream",
     "text": [
      "TRAIN: 100%|██████████| 183/183 [01:37<00:00,  1.88it/s]\n",
      "  VAL: 100%|██████████| 182/182 [00:59<00:00,  3.07it/s]\n"
     ]
    },
    {
     "name": "stdout",
     "output_type": "stream",
     "text": [
      "EPOCH:      58\n",
      "Train loss: 8.5255E-03\n",
      "Valid loss: 8.7959E-03\n"
     ]
    },
    {
     "name": "stderr",
     "output_type": "stream",
     "text": [
      "TRAIN: 100%|██████████| 183/183 [01:37<00:00,  1.88it/s]\n",
      "  VAL: 100%|██████████| 182/182 [00:58<00:00,  3.08it/s]\n"
     ]
    },
    {
     "name": "stdout",
     "output_type": "stream",
     "text": [
      "EPOCH:      59\n",
      "Train loss: 8.7561E-03\n",
      "Valid loss: 8.8083E-03\n"
     ]
    },
    {
     "name": "stderr",
     "output_type": "stream",
     "text": [
      "TRAIN: 100%|██████████| 183/183 [01:37<00:00,  1.89it/s]\n",
      "  VAL: 100%|██████████| 182/182 [00:58<00:00,  3.10it/s]\n"
     ]
    },
    {
     "name": "stdout",
     "output_type": "stream",
     "text": [
      "EPOCH:      60\n",
      "Train loss: 8.9054E-03\n",
      "Valid loss: 8.0202E-03\n"
     ]
    },
    {
     "name": "stderr",
     "output_type": "stream",
     "text": [
      "TRAIN: 100%|██████████| 183/183 [01:36<00:00,  1.89it/s]\n",
      "  VAL: 100%|██████████| 182/182 [00:59<00:00,  3.07it/s]\n"
     ]
    },
    {
     "name": "stdout",
     "output_type": "stream",
     "text": [
      "EPOCH:      61\n",
      "Train loss: 8.3053E-03\n",
      "Valid loss: 7.9740E-03\n"
     ]
    },
    {
     "name": "stderr",
     "output_type": "stream",
     "text": [
      "TRAIN: 100%|██████████| 183/183 [01:37<00:00,  1.88it/s]\n",
      "  VAL: 100%|██████████| 182/182 [00:59<00:00,  3.06it/s]\n"
     ]
    },
    {
     "name": "stdout",
     "output_type": "stream",
     "text": [
      "EPOCH:      62\n",
      "Train loss: 8.4752E-03\n",
      "Valid loss: 8.3483E-03\n"
     ]
    },
    {
     "name": "stderr",
     "output_type": "stream",
     "text": [
      "TRAIN: 100%|██████████| 183/183 [01:36<00:00,  1.89it/s]\n",
      "  VAL: 100%|██████████| 182/182 [00:58<00:00,  3.11it/s]\n"
     ]
    },
    {
     "name": "stdout",
     "output_type": "stream",
     "text": [
      "EPOCH:      63\n",
      "Train loss: 8.0807E-03\n",
      "Valid loss: 7.6555E-03\n"
     ]
    },
    {
     "name": "stderr",
     "output_type": "stream",
     "text": [
      "TRAIN: 100%|██████████| 183/183 [01:37<00:00,  1.88it/s]\n",
      "  VAL: 100%|██████████| 182/182 [01:00<00:00,  3.03it/s]\n"
     ]
    },
    {
     "name": "stdout",
     "output_type": "stream",
     "text": [
      "EPOCH:      64\n",
      "Train loss: 8.4975E-03\n",
      "Valid loss: 8.6368E-03\n"
     ]
    },
    {
     "name": "stderr",
     "output_type": "stream",
     "text": [
      "TRAIN: 100%|██████████| 183/183 [01:37<00:00,  1.87it/s]\n",
      "  VAL: 100%|██████████| 182/182 [01:00<00:00,  3.02it/s]\n"
     ]
    },
    {
     "name": "stdout",
     "output_type": "stream",
     "text": [
      "EPOCH:      65\n",
      "Train loss: 8.2965E-03\n",
      "Valid loss: 8.4104E-03\n"
     ]
    },
    {
     "name": "stderr",
     "output_type": "stream",
     "text": [
      "TRAIN: 100%|██████████| 183/183 [01:37<00:00,  1.88it/s]\n",
      "  VAL: 100%|██████████| 182/182 [00:58<00:00,  3.11it/s]\n"
     ]
    },
    {
     "name": "stdout",
     "output_type": "stream",
     "text": [
      "EPOCH:      66\n",
      "Train loss: 8.1722E-03\n",
      "Valid loss: 7.7861E-03\n"
     ]
    },
    {
     "name": "stderr",
     "output_type": "stream",
     "text": [
      "TRAIN: 100%|██████████| 183/183 [01:36<00:00,  1.89it/s]\n",
      "  VAL: 100%|██████████| 182/182 [00:58<00:00,  3.12it/s]\n"
     ]
    },
    {
     "name": "stdout",
     "output_type": "stream",
     "text": [
      "EPOCH:      67\n",
      "Train loss: 7.7098E-03\n",
      "Valid loss: 7.5304E-03\n"
     ]
    },
    {
     "name": "stderr",
     "output_type": "stream",
     "text": [
      "TRAIN: 100%|██████████| 183/183 [01:36<00:00,  1.90it/s]\n",
      "  VAL: 100%|██████████| 182/182 [00:58<00:00,  3.13it/s]\n"
     ]
    },
    {
     "name": "stdout",
     "output_type": "stream",
     "text": [
      "EPOCH:      68\n",
      "Train loss: 8.0858E-03\n",
      "Valid loss: 7.8376E-03\n"
     ]
    },
    {
     "name": "stderr",
     "output_type": "stream",
     "text": [
      "TRAIN: 100%|██████████| 183/183 [01:36<00:00,  1.90it/s]\n",
      "  VAL: 100%|██████████| 182/182 [00:58<00:00,  3.12it/s]\n"
     ]
    },
    {
     "name": "stdout",
     "output_type": "stream",
     "text": [
      "EPOCH:      69\n",
      "Train loss: 7.9028E-03\n",
      "Valid loss: 7.7433E-03\n"
     ]
    },
    {
     "name": "stderr",
     "output_type": "stream",
     "text": [
      "TRAIN: 100%|██████████| 183/183 [01:37<00:00,  1.87it/s]\n",
      "  VAL: 100%|██████████| 182/182 [00:59<00:00,  3.07it/s]\n"
     ]
    },
    {
     "name": "stdout",
     "output_type": "stream",
     "text": [
      "EPOCH:      70\n",
      "Train loss: 8.3991E-03\n",
      "Valid loss: 7.6261E-03\n"
     ]
    },
    {
     "name": "stderr",
     "output_type": "stream",
     "text": [
      "TRAIN: 100%|██████████| 183/183 [01:37<00:00,  1.88it/s]\n",
      "  VAL: 100%|██████████| 182/182 [00:59<00:00,  3.07it/s]\n"
     ]
    },
    {
     "name": "stdout",
     "output_type": "stream",
     "text": [
      "EPOCH:      71\n",
      "Train loss: 7.8949E-03\n",
      "Valid loss: 9.4297E-03\n"
     ]
    },
    {
     "name": "stderr",
     "output_type": "stream",
     "text": [
      "TRAIN: 100%|██████████| 183/183 [01:37<00:00,  1.88it/s]\n",
      "  VAL: 100%|██████████| 182/182 [00:58<00:00,  3.11it/s]\n"
     ]
    },
    {
     "name": "stdout",
     "output_type": "stream",
     "text": [
      "EPOCH:      72\n",
      "Train loss: 7.9076E-03\n",
      "Valid loss: 8.5851E-03\n"
     ]
    },
    {
     "name": "stderr",
     "output_type": "stream",
     "text": [
      "TRAIN: 100%|██████████| 183/183 [01:38<00:00,  1.86it/s]\n",
      "  VAL: 100%|██████████| 182/182 [00:59<00:00,  3.05it/s]\n"
     ]
    },
    {
     "name": "stdout",
     "output_type": "stream",
     "text": [
      "EPOCH:      73\n",
      "Train loss: 7.7825E-03\n",
      "Valid loss: 7.3916E-03\n"
     ]
    },
    {
     "name": "stderr",
     "output_type": "stream",
     "text": [
      "TRAIN: 100%|██████████| 183/183 [01:37<00:00,  1.88it/s]\n",
      "  VAL: 100%|██████████| 182/182 [00:58<00:00,  3.11it/s]\n"
     ]
    },
    {
     "name": "stdout",
     "output_type": "stream",
     "text": [
      "EPOCH:      74\n",
      "Train loss: 8.1762E-03\n",
      "Valid loss: 8.1670E-03\n"
     ]
    },
    {
     "name": "stderr",
     "output_type": "stream",
     "text": [
      "TRAIN: 100%|██████████| 183/183 [01:36<00:00,  1.89it/s]\n",
      "  VAL: 100%|██████████| 182/182 [00:58<00:00,  3.12it/s]\n"
     ]
    },
    {
     "name": "stdout",
     "output_type": "stream",
     "text": [
      "EPOCH:      75\n",
      "Train loss: 8.0354E-03\n",
      "Valid loss: 7.4766E-03\n"
     ]
    },
    {
     "name": "stderr",
     "output_type": "stream",
     "text": [
      "TRAIN: 100%|██████████| 183/183 [01:36<00:00,  1.90it/s]\n",
      "  VAL: 100%|██████████| 182/182 [00:58<00:00,  3.10it/s]\n"
     ]
    },
    {
     "name": "stdout",
     "output_type": "stream",
     "text": [
      "EPOCH:      76\n",
      "Train loss: 8.2347E-03\n",
      "Valid loss: 7.7368E-03\n"
     ]
    },
    {
     "name": "stderr",
     "output_type": "stream",
     "text": [
      "TRAIN: 100%|██████████| 183/183 [01:36<00:00,  1.90it/s]\n",
      "  VAL: 100%|██████████| 182/182 [00:58<00:00,  3.12it/s]\n"
     ]
    },
    {
     "name": "stdout",
     "output_type": "stream",
     "text": [
      "EPOCH:      77\n",
      "Train loss: 7.4534E-03\n",
      "Valid loss: 7.0471E-03\n"
     ]
    },
    {
     "name": "stderr",
     "output_type": "stream",
     "text": [
      "TRAIN: 100%|██████████| 183/183 [01:36<00:00,  1.89it/s]\n",
      "  VAL: 100%|██████████| 182/182 [00:58<00:00,  3.09it/s]\n"
     ]
    },
    {
     "name": "stdout",
     "output_type": "stream",
     "text": [
      "EPOCH:      78\n",
      "Train loss: 7.6980E-03\n",
      "Valid loss: 7.3342E-03\n"
     ]
    },
    {
     "name": "stderr",
     "output_type": "stream",
     "text": [
      "TRAIN: 100%|██████████| 183/183 [01:36<00:00,  1.89it/s]\n",
      "  VAL: 100%|██████████| 182/182 [00:58<00:00,  3.12it/s]\n"
     ]
    },
    {
     "name": "stdout",
     "output_type": "stream",
     "text": [
      "EPOCH:      79\n",
      "Train loss: 7.9936E-03\n",
      "Valid loss: 7.8759E-03\n"
     ]
    },
    {
     "name": "stderr",
     "output_type": "stream",
     "text": [
      "TRAIN: 100%|██████████| 183/183 [01:36<00:00,  1.89it/s]\n",
      "  VAL: 100%|██████████| 182/182 [00:58<00:00,  3.12it/s]\n"
     ]
    },
    {
     "name": "stdout",
     "output_type": "stream",
     "text": [
      "EPOCH:      80\n",
      "Train loss: 7.7772E-03\n",
      "Valid loss: 8.9532E-03\n"
     ]
    },
    {
     "name": "stderr",
     "output_type": "stream",
     "text": [
      "TRAIN: 100%|██████████| 183/183 [01:36<00:00,  1.90it/s]\n",
      "  VAL: 100%|██████████| 182/182 [00:59<00:00,  3.05it/s]\n"
     ]
    },
    {
     "name": "stdout",
     "output_type": "stream",
     "text": [
      "EPOCH:      81\n",
      "Train loss: 8.0282E-03\n",
      "Valid loss: 8.3368E-03\n"
     ]
    },
    {
     "name": "stderr",
     "output_type": "stream",
     "text": [
      "TRAIN: 100%|██████████| 183/183 [01:36<00:00,  1.89it/s]\n",
      "  VAL: 100%|██████████| 182/182 [00:58<00:00,  3.11it/s]\n"
     ]
    },
    {
     "name": "stdout",
     "output_type": "stream",
     "text": [
      "EPOCH:      82\n",
      "Train loss: 7.7739E-03\n",
      "Valid loss: 7.6103E-03\n"
     ]
    },
    {
     "name": "stderr",
     "output_type": "stream",
     "text": [
      "TRAIN: 100%|██████████| 183/183 [01:36<00:00,  1.89it/s]\n",
      "  VAL: 100%|██████████| 182/182 [00:58<00:00,  3.13it/s]\n"
     ]
    },
    {
     "name": "stdout",
     "output_type": "stream",
     "text": [
      "EPOCH:      83\n",
      "Train loss: 7.4698E-03\n",
      "Valid loss: 7.8357E-03\n"
     ]
    },
    {
     "name": "stderr",
     "output_type": "stream",
     "text": [
      "TRAIN: 100%|██████████| 183/183 [01:36<00:00,  1.90it/s]\n",
      "  VAL: 100%|██████████| 182/182 [00:58<00:00,  3.13it/s]\n"
     ]
    },
    {
     "name": "stdout",
     "output_type": "stream",
     "text": [
      "EPOCH:      84\n",
      "Train loss: 7.3119E-03\n",
      "Valid loss: 7.5478E-03\n"
     ]
    },
    {
     "name": "stderr",
     "output_type": "stream",
     "text": [
      "TRAIN: 100%|██████████| 183/183 [01:36<00:00,  1.90it/s]\n",
      "  VAL: 100%|██████████| 182/182 [00:58<00:00,  3.12it/s]\n"
     ]
    },
    {
     "name": "stdout",
     "output_type": "stream",
     "text": [
      "EPOCH:      85\n",
      "Train loss: 7.7407E-03\n",
      "Valid loss: 7.7505E-03\n"
     ]
    },
    {
     "name": "stderr",
     "output_type": "stream",
     "text": [
      "TRAIN: 100%|██████████| 183/183 [01:36<00:00,  1.90it/s]\n",
      "  VAL: 100%|██████████| 182/182 [00:57<00:00,  3.15it/s]\n"
     ]
    },
    {
     "name": "stdout",
     "output_type": "stream",
     "text": [
      "EPOCH:      86\n",
      "Train loss: 7.3850E-03\n",
      "Valid loss: 7.3979E-03\n"
     ]
    },
    {
     "name": "stderr",
     "output_type": "stream",
     "text": [
      "TRAIN: 100%|██████████| 183/183 [01:36<00:00,  1.90it/s]\n",
      "  VAL: 100%|██████████| 182/182 [00:58<00:00,  3.13it/s]\n"
     ]
    },
    {
     "name": "stdout",
     "output_type": "stream",
     "text": [
      "EPOCH:      87\n",
      "Train loss: 7.8091E-03\n",
      "Valid loss: 7.6357E-03\n"
     ]
    },
    {
     "name": "stderr",
     "output_type": "stream",
     "text": [
      "TRAIN: 100%|██████████| 183/183 [01:36<00:00,  1.90it/s]\n",
      "  VAL: 100%|██████████| 182/182 [00:57<00:00,  3.14it/s]\n"
     ]
    },
    {
     "name": "stdout",
     "output_type": "stream",
     "text": [
      "EPOCH:      88\n",
      "Train loss: 7.6293E-03\n",
      "Valid loss: 7.3114E-03\n"
     ]
    },
    {
     "name": "stderr",
     "output_type": "stream",
     "text": [
      "TRAIN: 100%|██████████| 183/183 [01:36<00:00,  1.90it/s]\n",
      "  VAL: 100%|██████████| 182/182 [00:58<00:00,  3.12it/s]\n"
     ]
    },
    {
     "name": "stdout",
     "output_type": "stream",
     "text": [
      "EPOCH:      89\n",
      "Train loss: 7.4931E-03\n",
      "Valid loss: 6.9192E-03\n"
     ]
    },
    {
     "name": "stderr",
     "output_type": "stream",
     "text": [
      "TRAIN: 100%|██████████| 183/183 [01:36<00:00,  1.90it/s]\n",
      "  VAL: 100%|██████████| 182/182 [00:58<00:00,  3.13it/s]\n"
     ]
    },
    {
     "name": "stdout",
     "output_type": "stream",
     "text": [
      "EPOCH:      90\n",
      "Train loss: 7.4611E-03\n",
      "Valid loss: 7.8734E-03\n"
     ]
    },
    {
     "name": "stderr",
     "output_type": "stream",
     "text": [
      "TRAIN: 100%|██████████| 183/183 [01:36<00:00,  1.90it/s]\n",
      "  VAL: 100%|██████████| 182/182 [00:59<00:00,  3.08it/s]\n"
     ]
    },
    {
     "name": "stdout",
     "output_type": "stream",
     "text": [
      "EPOCH:      91\n",
      "Train loss: 8.1540E-03\n",
      "Valid loss: 1.0936E-02\n"
     ]
    },
    {
     "name": "stderr",
     "output_type": "stream",
     "text": [
      "TRAIN: 100%|██████████| 183/183 [01:37<00:00,  1.88it/s]\n",
      "  VAL: 100%|██████████| 182/182 [00:59<00:00,  3.07it/s]\n"
     ]
    },
    {
     "name": "stdout",
     "output_type": "stream",
     "text": [
      "EPOCH:      92\n",
      "Train loss: 8.7042E-03\n",
      "Valid loss: 7.8590E-03\n"
     ]
    },
    {
     "name": "stderr",
     "output_type": "stream",
     "text": [
      "TRAIN: 100%|██████████| 183/183 [01:37<00:00,  1.88it/s]\n",
      "  VAL: 100%|██████████| 182/182 [00:59<00:00,  3.07it/s]\n"
     ]
    },
    {
     "name": "stdout",
     "output_type": "stream",
     "text": [
      "EPOCH:      93\n",
      "Train loss: 7.3712E-03\n",
      "Valid loss: 7.1439E-03\n"
     ]
    },
    {
     "name": "stderr",
     "output_type": "stream",
     "text": [
      "TRAIN: 100%|██████████| 183/183 [01:36<00:00,  1.90it/s]\n",
      "  VAL: 100%|██████████| 182/182 [00:57<00:00,  3.15it/s]\n"
     ]
    },
    {
     "name": "stdout",
     "output_type": "stream",
     "text": [
      "EPOCH:      94\n",
      "Train loss: 7.4522E-03\n",
      "Valid loss: 7.3649E-03\n"
     ]
    },
    {
     "name": "stderr",
     "output_type": "stream",
     "text": [
      "TRAIN: 100%|██████████| 183/183 [01:36<00:00,  1.90it/s]\n",
      "  VAL: 100%|██████████| 182/182 [00:58<00:00,  3.13it/s]\n"
     ]
    },
    {
     "name": "stdout",
     "output_type": "stream",
     "text": [
      "EPOCH:      95\n",
      "Train loss: 7.3341E-03\n",
      "Valid loss: 7.0196E-03\n"
     ]
    },
    {
     "name": "stderr",
     "output_type": "stream",
     "text": [
      "TRAIN: 100%|██████████| 183/183 [01:36<00:00,  1.90it/s]\n",
      "  VAL: 100%|██████████| 182/182 [00:58<00:00,  3.13it/s]\n"
     ]
    },
    {
     "name": "stdout",
     "output_type": "stream",
     "text": [
      "EPOCH:      96\n",
      "Train loss: 7.1159E-03\n",
      "Valid loss: 6.9623E-03\n"
     ]
    },
    {
     "name": "stderr",
     "output_type": "stream",
     "text": [
      "TRAIN: 100%|██████████| 183/183 [01:36<00:00,  1.90it/s]\n",
      "  VAL: 100%|██████████| 182/182 [00:58<00:00,  3.14it/s]\n"
     ]
    },
    {
     "name": "stdout",
     "output_type": "stream",
     "text": [
      "EPOCH:      97\n",
      "Train loss: 7.0953E-03\n",
      "Valid loss: 6.9296E-03\n"
     ]
    },
    {
     "name": "stderr",
     "output_type": "stream",
     "text": [
      "TRAIN: 100%|██████████| 183/183 [01:36<00:00,  1.90it/s]\n",
      "  VAL: 100%|██████████| 182/182 [00:58<00:00,  3.12it/s]\n"
     ]
    },
    {
     "name": "stdout",
     "output_type": "stream",
     "text": [
      "EPOCH:      98\n",
      "Train loss: 7.0241E-03\n",
      "Valid loss: 7.1062E-03\n"
     ]
    },
    {
     "name": "stderr",
     "output_type": "stream",
     "text": [
      "TRAIN: 100%|██████████| 183/183 [01:36<00:00,  1.90it/s]\n",
      "  VAL: 100%|██████████| 182/182 [00:58<00:00,  3.14it/s]\n"
     ]
    },
    {
     "name": "stdout",
     "output_type": "stream",
     "text": [
      "EPOCH:      99\n",
      "Train loss: 7.1334E-03\n",
      "Valid loss: 7.2079E-03\n"
     ]
    },
    {
     "name": "stderr",
     "output_type": "stream",
     "text": [
      "TRAIN: 100%|██████████| 183/183 [01:36<00:00,  1.89it/s]\n",
      "  VAL: 100%|██████████| 182/182 [00:58<00:00,  3.10it/s]"
     ]
    },
    {
     "name": "stdout",
     "output_type": "stream",
     "text": [
      "EPOCH:      100\n",
      "Train loss: 7.7286E-03\n",
      "Valid loss: 7.3669E-03\n"
     ]
    },
    {
     "name": "stderr",
     "output_type": "stream",
     "text": [
      "\n"
     ]
    },
    {
     "data": {
      "image/png": "[encoded data removed]",
      "text/plain": [
       "<Figure size 640x480 with 1 Axes>"
      ]
     },
     "metadata": {},
     "output_type": "display_data"
    }
   ],
   "source": [
    "from importlib import reload\n",
    "import src.wnet as wnet\n",
    "import src.network as network\n",
    "import src.loss as loss\n",
    "loss = reload(loss)\n",
    "network = reload(network)\n",
    "wnet = reload(wnet)\n",
    "\n",
    "train = True\n",
    "epochs = 100\n",
    "use_checkpoint = False\n",
    "checkpoint_path = 'models/wnet-2022-12-02-02-50.pt'\n",
    "\n",
    "net = wnet.WNet(device_type=device)\n",
    "net.to(device)\n",
    "if use_checkpoint:\n",
    "    checkpoint = torch.load(checkpoint_path)\n",
    "    net.load_state_dict(checkpoint['model_state_dict'])\n",
    "    net.to(device)\n",
    "    print('Loaded checkpoint from {}'.format(checkpoint_path))\n",
    "\n",
    "if train:\n",
    "    net.fit(\n",
    "        X_train, y_train,\n",
    "        X_val, y_val,\n",
    "        epochs=epochs,\n",
    "        learn_rate=1e-3,\n",
    "        weight_decay=1e-5\n",
    "    )\n",
    "    date = datetime.now().__str__()\n",
    "    date = date[:16].replace(':', '-').replace(' ', '-')\n",
    "    torch.save({\n",
    "                'epoch': epochs,\n",
    "                'model_state_dict': net.state_dict(),\n",
    "                }, f'models/wnet-{date}.pt')"
   ]
  },
  {
   "cell_type": "code",
   "execution_count": 4,
   "metadata": {},
   "outputs": [
    {
     "name": "stderr",
     "output_type": "stream",
     "text": [
      "25it [08:02, 19.30s/it]\n"
     ]
    }
   ],
   "source": [
    "import utils.visualize as visualize\n",
    "from src.crf import crf_fit_predict, crf_batch_fit_predict\n",
    "import tqdm\n",
    "\n",
    "all_inputs = []\n",
    "all_masks = []\n",
    "all_network_masks = []\n",
    "for i,batch in tqdm.tqdm(enumerate(X_test)):\n",
    "  inputs = batch\n",
    "  mask, outputs = net.forward(inputs)\n",
    "  inputs = inputs.detach().cpu().numpy()\n",
    "  outputs = outputs.detach().cpu().numpy()\n",
    "  mask = mask.detach().cpu().numpy()\n",
    "  crf_mask = crf_batch_fit_predict(mask, inputs)\n",
    "  for j in range(inputs.shape[0]):\n",
    "    all_inputs.append(inputs[j])\n",
    "    all_network_masks.append(mask[j])\n",
    "    all_masks.append(crf_mask[j])\n",
    "    \n",
    "all_masks = np.array(all_masks)\n",
    "all_inputs = np.array(all_inputs)\n",
    "all_network_masks = np.array(all_inputs)"
   ]
  },
  {
   "cell_type": "code",
   "execution_count": 5,
   "metadata": {},
   "outputs": [],
   "source": [
    "import skimage\n",
    "import matplotlib.pyplot as plt\n",
    "\n",
    "# Convert segmentation mask to RGB with colors averaged from the image\n",
    "def mask_to_rgb(mask, image):\n",
    "    mask = mask.argmax(0)\n",
    "    image = image.transpose(1,2,0)\n",
    "    mask_rgb = np.zeros(image.shape)\n",
    "    for i in range(0, mask.max()):\n",
    "        mask_rgb[mask==i] = image[mask==i].mean(0)\n",
    "    return mask_rgb\n",
    "\n",
    "# edge detection using sobel filter\n",
    "def sobel_edge_detection(image):\n",
    "    image = skimage.color.rgb2gray(image)\n",
    "    edges = skimage.filters.sobel(image)\n",
    "    return edges\n",
    "\n",
    "# segmentation mask to csv\n",
    "def mask_to_csv(mask):\n",
    "    mask = mask.argmax(0)\n",
    "    print(mask)"
   ]
  },
  {
   "cell_type": "code",
   "execution_count": 6,
   "metadata": {},
   "outputs": [
    {
     "name": "stderr",
     "output_type": "stream",
     "text": [
      "/tmp/ipykernel_12573/2182552978.py:10: RuntimeWarning: Mean of empty slice.\n",
      "  mask_rgb[mask==i] = image[mask==i].mean(0)\n",
      "/home/remote/anaconda3/envs/torch/lib/python3.9/site-packages/numpy/core/_methods.py:181: RuntimeWarning: invalid value encountered in true_divide\n",
      "  ret = um.true_divide(\n"
     ]
    }
   ],
   "source": [
    "for i in range(all_masks.shape[0]):\n",
    "    mask = mask_to_rgb(all_masks[i], all_inputs[i])\n",
    "    mask = torch.from_numpy(mask).permute(2,0,1)\n",
    "    id = dataset.testset.image_paths[i].split(\"/\")[-1].split(\".\")[0]\n",
    "    mask = torchvision.transforms.functional.resize(mask, list(dataset.testset.image_sizes[i]), interpolation=torchvision.transforms.functional.InterpolationMode.NEAREST)\n",
    "    torchvision.utils.save_image(mask, f'outputs/png/{id}.png')\n",
    "    \n",
    "    # mask = mask_to_rgb(all_masks[i], all_inputs[i])\n",
    "    mask = (skimage.color.rgb2gray(mask.permute(1,2,0)) * 255).round()\n",
    "    colors = np.unique(mask)\n",
    "    for i,color in enumerate(colors):\n",
    "        mask[mask==color] = i\n",
    "    np.savetxt(f'outputs/csv/{id}.csv', mask, delimiter=',', fmt='%i')"
   ]
  },
  {
   "cell_type": "code",
   "execution_count": 7,
   "metadata": {},
   "outputs": [
    {
     "name": "stderr",
     "output_type": "stream",
     "text": [
      "100%|██████████| 200/200 [01:18<00:00,  2.55it/s]"
     ]
    },
    {
     "name": "stdout",
     "output_type": "stream",
     "text": [
      "Average (averaged over gt segmentations) mIOU:  0.11433732975607845\n",
      "Max (over gt segmentations) mIOU:  0.2720017964656836\n"
     ]
    },
    {
     "name": "stderr",
     "output_type": "stream",
     "text": [
      "\n"
     ]
    }
   ],
   "source": [
    "from evaluation import calculate_mIOU\n",
    "\n",
    "average_mIOU, max_mIOU = calculate_mIOU(\"../BSDS500/gt\", \"outputs/csv\")\n",
    "print(\"Average (averaged over gt segmentations) mIOU: \", average_mIOU)\n",
    "print(\"Max (over gt segmentations) mIOU: \", max_mIOU)"
   ]
  },
  {
   "cell_type": "code",
   "execution_count": null,
   "metadata": {},
   "outputs": [],
   "source": []
  }
 ],
 "metadata": {
  "kernelspec": {
   "display_name": "Python 3.10.6 ('pytorch')",
   "language": "python",
   "name": "python3"
  },
  "language_info": {
   "codemirror_mode": {
    "name": "ipython",
    "version": 3
   },
   "file_extension": ".py",
   "mimetype": "text/x-python",
   "name": "python",
   "nbconvert_exporter": "python",
   "pygments_lexer": "ipython3",
   "version": "3.10.6"
  },
  "orig_nbformat": 4,
  "vscode": {
   "interpreter": {
    "hash": "394d24a1087ab98538c556b121a84e46182f365585e86aa7ee7d846ee7e5fae4"
   }
  }
 },
 "nbformat": 4,
 "nbformat_minor": 2
}
