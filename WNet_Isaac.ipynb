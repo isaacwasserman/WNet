{
 "cells": [
  {
   "cell_type": "code",
   "execution_count": 1,
   "metadata": {},
   "outputs": [],
   "source": [
    "import numpy as np\n",
    "import torch\n",
    "import torchvision\n",
    "from glob import glob\n",
    "import os\n",
    "from datetime import datetime\n",
    "\n",
    "import src.wnet as wnet\n",
    "\n",
    "device = 'cuda'"
   ]
  },
  {
   "cell_type": "code",
   "execution_count": 2,
   "metadata": {},
   "outputs": [],
   "source": [
    "# Construct Dataset\n",
    "class BSDS500_dataset(torch.utils.data.Dataset):\n",
    "    def __init__(self, root_dir, subset):\n",
    "        self.root_dir = root_dir\n",
    "        self.image_paths = glob(os.path.join(root_dir, 'BSDS500', 'data', 'images', subset, '*.jpg'))\n",
    "        self.image_sizes = [np.take(torchvision.io.read_image(img_path).shape, [1,2]) for img_path in self.image_paths]\n",
    "        self.image_size = (224, 224)\n",
    "        \n",
    "        self.max_image = None\n",
    "        self.min_image = None\n",
    "        for i in range(self.__len__()):\n",
    "            image = torchvision.io.read_image(self.image_paths[i]).float()\n",
    "            image = torchvision.transforms.functional.resize(image, self.image_size, interpolation=torchvision.transforms.functional.InterpolationMode.BILINEAR)\n",
    "            self.max_image = torch.max(self.max_image, image) if self.max_image is not None else image\n",
    "            self.min_image = torch.min(self.min_image, image) if self.min_image is not None else image\n",
    "\n",
    "    def __len__(self):\n",
    "        return len(self.image_paths)\n",
    "\n",
    "    def size(self, idx=None):\n",
    "        s = [self.__len__(), 3, self.image_size[0], self.image_size[1]]\n",
    "        if idx is not None:\n",
    "            s = s[idx]\n",
    "        else:\n",
    "            s = torch.Size(s)\n",
    "        return s\n",
    "\n",
    "    def __getitem__(self, idx):\n",
    "        img_path = self.image_paths[idx]\n",
    "        image = torchvision.io.read_image(img_path)\n",
    "        image = image.float()\n",
    "        image = torchvision.transforms.functional.resize(image, self.image_size, interpolation=torchvision.transforms.functional.InterpolationMode.BILINEAR)\n",
    "        image = (image - self.min_image) / (self.max_image - self.min_image)\n",
    "        return image.to(device)\n",
    "\n",
    "class BSDS500():\n",
    "    def __init__(self, root_dir, batch_size):\n",
    "        self.trainset = BSDS500_dataset(root_dir, 'train')\n",
    "        self.trainloader = torch.utils.data.DataLoader(self.trainset, batch_size=batch_size, shuffle=True)\n",
    "        self.valset = BSDS500_dataset(root_dir, 'val')\n",
    "        self.valloader = torch.utils.data.DataLoader(self.valset, batch_size=batch_size, shuffle=False)\n",
    "        self.testset = BSDS500_dataset(root_dir, 'test')\n",
    "        self.testloader = torch.utils.data.DataLoader(self.testset, batch_size=batch_size, shuffle=False)\n",
    "\n",
    "    def get_trainloader(self):\n",
    "        return self.trainloader\n",
    "    \n",
    "    def get_valloader(self):\n",
    "        return self.valloader\n",
    "\n",
    "    def get_testloader(self):\n",
    "        return self.testloader\n",
    "\n",
    "if device == \"mps\":\n",
    "    batch_size = 16\n",
    "else:\n",
    "    batch_size = 8\n",
    "\n",
    "dataset = BSDS500('../BSDS500', batch_size)\n",
    "X_train = dataset.get_trainloader()\n",
    "y_train = dataset.get_trainloader()\n",
    "X_val = dataset.get_valloader()\n",
    "y_val = dataset.get_valloader()\n",
    "X_test = dataset.get_testloader()\n",
    "y_test = dataset.get_testloader()"
   ]
  },
  {
   "cell_type": "code",
   "execution_count": 3,
   "metadata": {},
   "outputs": [
    {
     "name": "stderr",
     "output_type": "stream",
     "text": [
      "TRAIN: 100%|██████████| 25/25 [00:15<00:00,  1.63it/s]\n",
      "  VAL: 100%|██████████| 13/13 [00:04<00:00,  2.95it/s]\n"
     ]
    },
    {
     "name": "stdout",
     "output_type": "stream",
     "text": [
      "EPOCH:      1\n",
      "Train loss: 1.5208E-01\n",
      "Valid loss: 1.2249E-01\n"
     ]
    },
    {
     "name": "stderr",
     "output_type": "stream",
     "text": [
      "TRAIN: 100%|██████████| 25/25 [00:13<00:00,  1.79it/s]\n",
      "  VAL: 100%|██████████| 13/13 [00:04<00:00,  3.03it/s]\n"
     ]
    },
    {
     "name": "stdout",
     "output_type": "stream",
     "text": [
      "EPOCH:      2\n",
      "Train loss: 1.2113E-01\n",
      "Valid loss: 1.1609E-01\n"
     ]
    },
    {
     "name": "stderr",
     "output_type": "stream",
     "text": [
      "TRAIN: 100%|██████████| 25/25 [00:13<00:00,  1.79it/s]\n",
      "  VAL: 100%|██████████| 13/13 [00:04<00:00,  3.02it/s]\n"
     ]
    },
    {
     "name": "stdout",
     "output_type": "stream",
     "text": [
      "EPOCH:      3\n",
      "Train loss: 1.1593E-01\n",
      "Valid loss: 1.1304E-01\n"
     ]
    },
    {
     "name": "stderr",
     "output_type": "stream",
     "text": [
      "TRAIN: 100%|██████████| 25/25 [00:13<00:00,  1.79it/s]\n",
      "  VAL: 100%|██████████| 13/13 [00:04<00:00,  3.00it/s]\n"
     ]
    },
    {
     "name": "stdout",
     "output_type": "stream",
     "text": [
      "EPOCH:      4\n",
      "Train loss: 1.1483E-01\n",
      "Valid loss: 1.1566E-01\n"
     ]
    },
    {
     "name": "stderr",
     "output_type": "stream",
     "text": [
      "TRAIN: 100%|██████████| 25/25 [00:14<00:00,  1.77it/s]\n",
      "  VAL: 100%|██████████| 13/13 [00:04<00:00,  2.97it/s]\n"
     ]
    },
    {
     "name": "stdout",
     "output_type": "stream",
     "text": [
      "EPOCH:      5\n",
      "Train loss: 1.1274E-01\n",
      "Valid loss: 1.0905E-01\n"
     ]
    },
    {
     "name": "stderr",
     "output_type": "stream",
     "text": [
      "TRAIN: 100%|██████████| 25/25 [00:14<00:00,  1.78it/s]\n",
      "  VAL: 100%|██████████| 13/13 [00:04<00:00,  2.99it/s]\n"
     ]
    },
    {
     "name": "stdout",
     "output_type": "stream",
     "text": [
      "EPOCH:      6\n",
      "Train loss: 1.0948E-01\n",
      "Valid loss: 1.0736E-01\n"
     ]
    },
    {
     "name": "stderr",
     "output_type": "stream",
     "text": [
      "TRAIN: 100%|██████████| 25/25 [00:14<00:00,  1.78it/s]\n",
      "  VAL: 100%|██████████| 13/13 [00:04<00:00,  2.98it/s]\n"
     ]
    },
    {
     "name": "stdout",
     "output_type": "stream",
     "text": [
      "EPOCH:      7\n",
      "Train loss: 1.0917E-01\n",
      "Valid loss: 1.0689E-01\n"
     ]
    },
    {
     "name": "stderr",
     "output_type": "stream",
     "text": [
      "TRAIN: 100%|██████████| 25/25 [00:14<00:00,  1.74it/s]\n",
      "  VAL: 100%|██████████| 13/13 [00:04<00:00,  2.95it/s]\n"
     ]
    },
    {
     "name": "stdout",
     "output_type": "stream",
     "text": [
      "EPOCH:      8\n",
      "Train loss: 1.0823E-01\n",
      "Valid loss: 1.0891E-01\n"
     ]
    },
    {
     "name": "stderr",
     "output_type": "stream",
     "text": [
      "TRAIN: 100%|██████████| 25/25 [00:14<00:00,  1.77it/s]\n",
      "  VAL: 100%|██████████| 13/13 [00:04<00:00,  2.95it/s]\n"
     ]
    },
    {
     "name": "stdout",
     "output_type": "stream",
     "text": [
      "EPOCH:      9\n",
      "Train loss: 1.0943E-01\n",
      "Valid loss: 1.0811E-01\n"
     ]
    },
    {
     "name": "stderr",
     "output_type": "stream",
     "text": [
      "TRAIN: 100%|██████████| 25/25 [00:14<00:00,  1.78it/s]\n",
      "  VAL: 100%|██████████| 13/13 [00:04<00:00,  2.94it/s]\n"
     ]
    },
    {
     "name": "stdout",
     "output_type": "stream",
     "text": [
      "EPOCH:      10\n",
      "Train loss: 1.0741E-01\n",
      "Valid loss: 1.0767E-01\n"
     ]
    },
    {
     "name": "stderr",
     "output_type": "stream",
     "text": [
      "TRAIN: 100%|██████████| 25/25 [00:14<00:00,  1.78it/s]\n",
      "  VAL: 100%|██████████| 13/13 [00:04<00:00,  2.89it/s]\n"
     ]
    },
    {
     "name": "stdout",
     "output_type": "stream",
     "text": [
      "EPOCH:      11\n",
      "Train loss: 1.0783E-01\n",
      "Valid loss: 1.0608E-01\n"
     ]
    },
    {
     "name": "stderr",
     "output_type": "stream",
     "text": [
      "TRAIN: 100%|██████████| 25/25 [00:14<00:00,  1.75it/s]\n",
      "  VAL: 100%|██████████| 13/13 [00:04<00:00,  2.76it/s]\n"
     ]
    },
    {
     "name": "stdout",
     "output_type": "stream",
     "text": [
      "EPOCH:      12\n",
      "Train loss: 1.0652E-01\n",
      "Valid loss: 1.0475E-01\n"
     ]
    },
    {
     "name": "stderr",
     "output_type": "stream",
     "text": [
      "TRAIN: 100%|██████████| 25/25 [00:14<00:00,  1.74it/s]\n",
      "  VAL: 100%|██████████| 13/13 [00:04<00:00,  2.91it/s]\n"
     ]
    },
    {
     "name": "stdout",
     "output_type": "stream",
     "text": [
      "EPOCH:      13\n",
      "Train loss: 1.0635E-01\n",
      "Valid loss: 1.0558E-01\n"
     ]
    },
    {
     "name": "stderr",
     "output_type": "stream",
     "text": [
      "TRAIN: 100%|██████████| 25/25 [00:14<00:00,  1.73it/s]\n",
      "  VAL: 100%|██████████| 13/13 [00:04<00:00,  2.93it/s]\n"
     ]
    },
    {
     "name": "stdout",
     "output_type": "stream",
     "text": [
      "EPOCH:      14\n",
      "Train loss: 1.0697E-01\n",
      "Valid loss: 1.0566E-01\n"
     ]
    },
    {
     "name": "stderr",
     "output_type": "stream",
     "text": [
      "TRAIN: 100%|██████████| 25/25 [00:14<00:00,  1.74it/s]\n",
      "  VAL: 100%|██████████| 13/13 [00:04<00:00,  2.84it/s]\n"
     ]
    },
    {
     "name": "stdout",
     "output_type": "stream",
     "text": [
      "EPOCH:      15\n",
      "Train loss: 1.0682E-01\n",
      "Valid loss: 1.0544E-01\n"
     ]
    },
    {
     "name": "stderr",
     "output_type": "stream",
     "text": [
      "TRAIN: 100%|██████████| 25/25 [00:14<00:00,  1.73it/s]\n",
      "  VAL: 100%|██████████| 13/13 [00:04<00:00,  2.88it/s]\n"
     ]
    },
    {
     "name": "stdout",
     "output_type": "stream",
     "text": [
      "EPOCH:      16\n",
      "Train loss: 1.0740E-01\n",
      "Valid loss: 1.0523E-01\n"
     ]
    },
    {
     "name": "stderr",
     "output_type": "stream",
     "text": [
      "TRAIN: 100%|██████████| 25/25 [00:14<00:00,  1.73it/s]\n",
      "  VAL: 100%|██████████| 13/13 [00:04<00:00,  2.84it/s]\n"
     ]
    },
    {
     "name": "stdout",
     "output_type": "stream",
     "text": [
      "EPOCH:      17\n",
      "Train loss: 1.0588E-01\n",
      "Valid loss: 1.0496E-01\n"
     ]
    },
    {
     "name": "stderr",
     "output_type": "stream",
     "text": [
      "TRAIN: 100%|██████████| 25/25 [00:14<00:00,  1.72it/s]\n",
      "  VAL: 100%|██████████| 13/13 [00:04<00:00,  2.80it/s]\n"
     ]
    },
    {
     "name": "stdout",
     "output_type": "stream",
     "text": [
      "EPOCH:      18\n",
      "Train loss: 1.0447E-01\n",
      "Valid loss: 1.0355E-01\n"
     ]
    },
    {
     "name": "stderr",
     "output_type": "stream",
     "text": [
      "TRAIN: 100%|██████████| 25/25 [00:14<00:00,  1.73it/s]\n",
      "  VAL: 100%|██████████| 13/13 [00:04<00:00,  2.81it/s]\n"
     ]
    },
    {
     "name": "stdout",
     "output_type": "stream",
     "text": [
      "EPOCH:      19\n",
      "Train loss: 1.0458E-01\n",
      "Valid loss: 1.0505E-01\n"
     ]
    },
    {
     "name": "stderr",
     "output_type": "stream",
     "text": [
      "TRAIN: 100%|██████████| 25/25 [00:14<00:00,  1.72it/s]\n",
      "  VAL: 100%|██████████| 13/13 [00:04<00:00,  2.83it/s]\n"
     ]
    },
    {
     "name": "stdout",
     "output_type": "stream",
     "text": [
      "EPOCH:      20\n",
      "Train loss: 1.0363E-01\n",
      "Valid loss: 1.0321E-01\n"
     ]
    },
    {
     "name": "stderr",
     "output_type": "stream",
     "text": [
      "TRAIN: 100%|██████████| 25/25 [00:14<00:00,  1.72it/s]\n",
      "  VAL: 100%|██████████| 13/13 [00:04<00:00,  2.80it/s]\n"
     ]
    },
    {
     "name": "stdout",
     "output_type": "stream",
     "text": [
      "EPOCH:      21\n",
      "Train loss: 1.0355E-01\n",
      "Valid loss: 1.0545E-01\n"
     ]
    },
    {
     "name": "stderr",
     "output_type": "stream",
     "text": [
      "TRAIN: 100%|██████████| 25/25 [00:14<00:00,  1.72it/s]\n",
      "  VAL: 100%|██████████| 13/13 [00:04<00:00,  2.82it/s]\n"
     ]
    },
    {
     "name": "stdout",
     "output_type": "stream",
     "text": [
      "EPOCH:      22\n",
      "Train loss: 1.0433E-01\n",
      "Valid loss: 1.0433E-01\n"
     ]
    },
    {
     "name": "stderr",
     "output_type": "stream",
     "text": [
      "TRAIN: 100%|██████████| 25/25 [00:14<00:00,  1.72it/s]\n",
      "  VAL: 100%|██████████| 13/13 [00:04<00:00,  2.81it/s]\n"
     ]
    },
    {
     "name": "stdout",
     "output_type": "stream",
     "text": [
      "EPOCH:      23\n",
      "Train loss: 1.0642E-01\n",
      "Valid loss: 1.0844E-01\n"
     ]
    },
    {
     "name": "stderr",
     "output_type": "stream",
     "text": [
      "TRAIN: 100%|██████████| 25/25 [00:14<00:00,  1.71it/s]\n",
      "  VAL: 100%|██████████| 13/13 [00:04<00:00,  2.83it/s]\n"
     ]
    },
    {
     "name": "stdout",
     "output_type": "stream",
     "text": [
      "EPOCH:      24\n",
      "Train loss: 1.0456E-01\n",
      "Valid loss: 1.0453E-01\n"
     ]
    },
    {
     "name": "stderr",
     "output_type": "stream",
     "text": [
      "TRAIN: 100%|██████████| 25/25 [00:14<00:00,  1.71it/s]\n",
      "  VAL: 100%|██████████| 13/13 [00:04<00:00,  2.82it/s]\n"
     ]
    },
    {
     "name": "stdout",
     "output_type": "stream",
     "text": [
      "EPOCH:      25\n",
      "Train loss: 1.0446E-01\n",
      "Valid loss: 1.0221E-01\n"
     ]
    },
    {
     "name": "stderr",
     "output_type": "stream",
     "text": [
      "TRAIN: 100%|██████████| 25/25 [00:14<00:00,  1.73it/s]\n",
      "  VAL: 100%|██████████| 13/13 [00:04<00:00,  2.84it/s]\n"
     ]
    },
    {
     "name": "stdout",
     "output_type": "stream",
     "text": [
      "EPOCH:      26\n",
      "Train loss: 1.0194E-01\n",
      "Valid loss: 1.0039E-01\n"
     ]
    },
    {
     "name": "stderr",
     "output_type": "stream",
     "text": [
      "TRAIN: 100%|██████████| 25/25 [00:14<00:00,  1.72it/s]\n",
      "  VAL: 100%|██████████| 13/13 [00:04<00:00,  2.73it/s]\n"
     ]
    },
    {
     "name": "stdout",
     "output_type": "stream",
     "text": [
      "EPOCH:      27\n",
      "Train loss: 1.0103E-01\n",
      "Valid loss: 9.8830E-02\n"
     ]
    },
    {
     "name": "stderr",
     "output_type": "stream",
     "text": [
      "TRAIN: 100%|██████████| 25/25 [00:14<00:00,  1.74it/s]\n",
      "  VAL: 100%|██████████| 13/13 [00:04<00:00,  2.85it/s]\n"
     ]
    },
    {
     "name": "stdout",
     "output_type": "stream",
     "text": [
      "EPOCH:      28\n",
      "Train loss: 9.9536E-02\n",
      "Valid loss: 1.0003E-01\n"
     ]
    },
    {
     "name": "stderr",
     "output_type": "stream",
     "text": [
      "TRAIN: 100%|██████████| 25/25 [00:14<00:00,  1.72it/s]\n",
      "  VAL: 100%|██████████| 13/13 [00:04<00:00,  2.82it/s]\n"
     ]
    },
    {
     "name": "stdout",
     "output_type": "stream",
     "text": [
      "EPOCH:      29\n",
      "Train loss: 9.8978E-02\n",
      "Valid loss: 9.8204E-02\n"
     ]
    },
    {
     "name": "stderr",
     "output_type": "stream",
     "text": [
      "TRAIN: 100%|██████████| 25/25 [00:14<00:00,  1.74it/s]\n",
      "  VAL: 100%|██████████| 13/13 [00:04<00:00,  2.84it/s]\n"
     ]
    },
    {
     "name": "stdout",
     "output_type": "stream",
     "text": [
      "EPOCH:      30\n",
      "Train loss: 9.6620E-02\n",
      "Valid loss: 9.6594E-02\n"
     ]
    },
    {
     "name": "stderr",
     "output_type": "stream",
     "text": [
      "TRAIN: 100%|██████████| 25/25 [00:14<00:00,  1.73it/s]\n",
      "  VAL: 100%|██████████| 13/13 [00:04<00:00,  2.85it/s]\n"
     ]
    },
    {
     "name": "stdout",
     "output_type": "stream",
     "text": [
      "EPOCH:      31\n",
      "Train loss: 9.6873E-02\n",
      "Valid loss: 9.5513E-02\n"
     ]
    },
    {
     "name": "stderr",
     "output_type": "stream",
     "text": [
      "TRAIN: 100%|██████████| 25/25 [00:14<00:00,  1.73it/s]\n",
      "  VAL: 100%|██████████| 13/13 [00:04<00:00,  2.84it/s]\n"
     ]
    },
    {
     "name": "stdout",
     "output_type": "stream",
     "text": [
      "EPOCH:      32\n",
      "Train loss: 9.6780E-02\n",
      "Valid loss: 9.6310E-02\n"
     ]
    },
    {
     "name": "stderr",
     "output_type": "stream",
     "text": [
      "TRAIN: 100%|██████████| 25/25 [00:14<00:00,  1.77it/s]\n",
      "  VAL: 100%|██████████| 13/13 [00:04<00:00,  2.93it/s]\n"
     ]
    },
    {
     "name": "stdout",
     "output_type": "stream",
     "text": [
      "EPOCH:      33\n",
      "Train loss: 9.7530E-02\n",
      "Valid loss: 9.5577E-02\n"
     ]
    },
    {
     "name": "stderr",
     "output_type": "stream",
     "text": [
      "TRAIN: 100%|██████████| 25/25 [00:14<00:00,  1.74it/s]\n",
      "  VAL: 100%|██████████| 13/13 [00:04<00:00,  2.98it/s]\n"
     ]
    },
    {
     "name": "stdout",
     "output_type": "stream",
     "text": [
      "EPOCH:      34\n",
      "Train loss: 9.8088E-02\n",
      "Valid loss: 9.8042E-02\n"
     ]
    },
    {
     "name": "stderr",
     "output_type": "stream",
     "text": [
      "TRAIN: 100%|██████████| 25/25 [00:14<00:00,  1.77it/s]\n",
      "  VAL: 100%|██████████| 13/13 [00:04<00:00,  2.95it/s]\n"
     ]
    },
    {
     "name": "stdout",
     "output_type": "stream",
     "text": [
      "EPOCH:      35\n",
      "Train loss: 9.7227E-02\n",
      "Valid loss: 9.9987E-02\n"
     ]
    },
    {
     "name": "stderr",
     "output_type": "stream",
     "text": [
      "TRAIN: 100%|██████████| 25/25 [00:13<00:00,  1.79it/s]\n",
      "  VAL: 100%|██████████| 13/13 [00:04<00:00,  3.01it/s]\n"
     ]
    },
    {
     "name": "stdout",
     "output_type": "stream",
     "text": [
      "EPOCH:      36\n",
      "Train loss: 9.5613E-02\n",
      "Valid loss: 9.5254E-02\n"
     ]
    },
    {
     "name": "stderr",
     "output_type": "stream",
     "text": [
      "TRAIN: 100%|██████████| 25/25 [00:14<00:00,  1.78it/s]\n",
      "  VAL: 100%|██████████| 13/13 [00:04<00:00,  2.97it/s]\n"
     ]
    },
    {
     "name": "stdout",
     "output_type": "stream",
     "text": [
      "EPOCH:      37\n",
      "Train loss: 9.5724E-02\n",
      "Valid loss: 9.4949E-02\n"
     ]
    },
    {
     "name": "stderr",
     "output_type": "stream",
     "text": [
      "TRAIN: 100%|██████████| 25/25 [00:13<00:00,  1.80it/s]\n",
      "  VAL: 100%|██████████| 13/13 [00:04<00:00,  2.95it/s]\n"
     ]
    },
    {
     "name": "stdout",
     "output_type": "stream",
     "text": [
      "EPOCH:      38\n",
      "Train loss: 9.5474E-02\n",
      "Valid loss: 9.4416E-02\n"
     ]
    },
    {
     "name": "stderr",
     "output_type": "stream",
     "text": [
      "TRAIN: 100%|██████████| 25/25 [00:14<00:00,  1.77it/s]\n",
      "  VAL: 100%|██████████| 13/13 [00:04<00:00,  2.96it/s]\n"
     ]
    },
    {
     "name": "stdout",
     "output_type": "stream",
     "text": [
      "EPOCH:      39\n",
      "Train loss: 9.4813E-02\n",
      "Valid loss: 9.4180E-02\n"
     ]
    },
    {
     "name": "stderr",
     "output_type": "stream",
     "text": [
      "TRAIN: 100%|██████████| 25/25 [00:13<00:00,  1.81it/s]\n",
      "  VAL: 100%|██████████| 13/13 [00:04<00:00,  2.96it/s]\n"
     ]
    },
    {
     "name": "stdout",
     "output_type": "stream",
     "text": [
      "EPOCH:      40\n",
      "Train loss: 9.4198E-02\n",
      "Valid loss: 9.3817E-02\n"
     ]
    },
    {
     "name": "stderr",
     "output_type": "stream",
     "text": [
      "TRAIN: 100%|██████████| 25/25 [00:13<00:00,  1.80it/s]\n",
      "  VAL: 100%|██████████| 13/13 [00:04<00:00,  2.92it/s]\n"
     ]
    },
    {
     "name": "stdout",
     "output_type": "stream",
     "text": [
      "EPOCH:      41\n",
      "Train loss: 9.4760E-02\n",
      "Valid loss: 9.4398E-02\n"
     ]
    },
    {
     "name": "stderr",
     "output_type": "stream",
     "text": [
      "TRAIN: 100%|██████████| 25/25 [00:13<00:00,  1.81it/s]\n",
      "  VAL: 100%|██████████| 13/13 [00:04<00:00,  2.98it/s]\n"
     ]
    },
    {
     "name": "stdout",
     "output_type": "stream",
     "text": [
      "EPOCH:      42\n",
      "Train loss: 9.4701E-02\n",
      "Valid loss: 9.3308E-02\n"
     ]
    },
    {
     "name": "stderr",
     "output_type": "stream",
     "text": [
      "TRAIN: 100%|██████████| 25/25 [00:13<00:00,  1.79it/s]\n",
      "  VAL: 100%|██████████| 13/13 [00:04<00:00,  3.00it/s]\n"
     ]
    },
    {
     "name": "stdout",
     "output_type": "stream",
     "text": [
      "EPOCH:      43\n",
      "Train loss: 9.3786E-02\n",
      "Valid loss: 9.4076E-02\n"
     ]
    },
    {
     "name": "stderr",
     "output_type": "stream",
     "text": [
      "TRAIN: 100%|██████████| 25/25 [00:14<00:00,  1.78it/s]\n",
      "  VAL: 100%|██████████| 13/13 [00:04<00:00,  3.00it/s]\n"
     ]
    },
    {
     "name": "stdout",
     "output_type": "stream",
     "text": [
      "EPOCH:      44\n",
      "Train loss: 9.5158E-02\n",
      "Valid loss: 9.3921E-02\n"
     ]
    },
    {
     "name": "stderr",
     "output_type": "stream",
     "text": [
      "TRAIN: 100%|██████████| 25/25 [00:13<00:00,  1.82it/s]\n",
      "  VAL: 100%|██████████| 13/13 [00:04<00:00,  2.93it/s]\n"
     ]
    },
    {
     "name": "stdout",
     "output_type": "stream",
     "text": [
      "EPOCH:      45\n",
      "Train loss: 9.6779E-02\n",
      "Valid loss: 9.4931E-02\n"
     ]
    },
    {
     "name": "stderr",
     "output_type": "stream",
     "text": [
      "TRAIN: 100%|██████████| 25/25 [00:13<00:00,  1.80it/s]\n",
      "  VAL: 100%|██████████| 13/13 [00:04<00:00,  2.95it/s]\n"
     ]
    },
    {
     "name": "stdout",
     "output_type": "stream",
     "text": [
      "EPOCH:      46\n",
      "Train loss: 9.4165E-02\n",
      "Valid loss: 9.2624E-02\n"
     ]
    },
    {
     "name": "stderr",
     "output_type": "stream",
     "text": [
      "TRAIN: 100%|██████████| 25/25 [00:13<00:00,  1.80it/s]\n",
      "  VAL: 100%|██████████| 13/13 [00:04<00:00,  2.99it/s]\n"
     ]
    },
    {
     "name": "stdout",
     "output_type": "stream",
     "text": [
      "EPOCH:      47\n",
      "Train loss: 9.3288E-02\n",
      "Valid loss: 9.3099E-02\n"
     ]
    },
    {
     "name": "stderr",
     "output_type": "stream",
     "text": [
      "TRAIN: 100%|██████████| 25/25 [00:13<00:00,  1.82it/s]\n",
      "  VAL: 100%|██████████| 13/13 [00:04<00:00,  3.01it/s]\n"
     ]
    },
    {
     "name": "stdout",
     "output_type": "stream",
     "text": [
      "EPOCH:      48\n",
      "Train loss: 9.4415E-02\n",
      "Valid loss: 9.2583E-02\n"
     ]
    },
    {
     "name": "stderr",
     "output_type": "stream",
     "text": [
      "TRAIN: 100%|██████████| 25/25 [00:13<00:00,  1.79it/s]\n",
      "  VAL: 100%|██████████| 13/13 [00:04<00:00,  2.99it/s]\n"
     ]
    },
    {
     "name": "stdout",
     "output_type": "stream",
     "text": [
      "EPOCH:      49\n",
      "Train loss: 9.4402E-02\n",
      "Valid loss: 9.3420E-02\n"
     ]
    },
    {
     "name": "stderr",
     "output_type": "stream",
     "text": [
      "TRAIN: 100%|██████████| 25/25 [00:13<00:00,  1.81it/s]\n",
      "  VAL: 100%|██████████| 13/13 [00:04<00:00,  2.98it/s]\n"
     ]
    },
    {
     "name": "stdout",
     "output_type": "stream",
     "text": [
      "EPOCH:      50\n",
      "Train loss: 9.3890E-02\n",
      "Valid loss: 9.3107E-02\n"
     ]
    },
    {
     "data": {
      "image/png": "[encoded data removed]",
      "text/plain": [
       "<Figure size 640x480 with 1 Axes>"
      ]
     },
     "metadata": {},
     "output_type": "display_data"
    }
   ],
   "source": [
    "from importlib import reload\n",
    "import src.wnet as wnet\n",
    "import src.network as network\n",
    "import src.loss as loss\n",
    "loss = reload(loss)\n",
    "network = reload(network)\n",
    "wnet = reload(wnet)\n",
    "\n",
    "train = True\n",
    "epochs = 50\n",
    "use_checkpoint = False\n",
    "checkpoint_path = 'models/wnet-2022-11-30-19-52.pt'\n",
    "\n",
    "net = wnet.WNet(device_type=device)\n",
    "net.to(device)\n",
    "if use_checkpoint:\n",
    "    checkpoint = torch.load(checkpoint_path)\n",
    "    net.load_state_dict(checkpoint['model_state_dict'])\n",
    "    net.to(device)\n",
    "    print('Loaded checkpoint from {}'.format(checkpoint_path))\n",
    "\n",
    "if train:\n",
    "    net.fit(\n",
    "        X_train, y_train,\n",
    "        X_val, y_val,\n",
    "        epochs=epochs,\n",
    "        learn_rate=1e-3,\n",
    "        weight_decay=1e-5\n",
    "    )\n",
    "    date = datetime.now().__str__()\n",
    "    date = date[:16].replace(':', '-').replace(' ', '-')\n",
    "    torch.save({\n",
    "                'epoch': epochs,\n",
    "                'model_state_dict': net.state_dict(),\n",
    "                }, f'models/wnet-{date}.pt')"
   ]
  },
  {
   "cell_type": "code",
   "execution_count": 6,
   "metadata": {},
   "outputs": [
    {
     "name": "stderr",
     "output_type": "stream",
     "text": [
      "25it [07:42, 18.51s/it]\n"
     ]
    }
   ],
   "source": [
    "import utils.visualize as visualize\n",
    "from src.crf import crf_fit_predict, crf_batch_fit_predict\n",
    "import tqdm\n",
    "\n",
    "all_inputs = []\n",
    "all_masks = []\n",
    "all_network_masks = []\n",
    "for i,batch in tqdm.tqdm(enumerate(X_test)):\n",
    "  inputs = batch\n",
    "  mask, outputs = net.forward(inputs)\n",
    "  inputs = inputs.detach().cpu().numpy()\n",
    "  outputs = outputs.detach().cpu().numpy()\n",
    "  mask = mask.detach().cpu().numpy()\n",
    "  crf_mask = crf_batch_fit_predict(mask, inputs)\n",
    "  for j in range(inputs.shape[0]):\n",
    "    all_inputs.append(inputs[j])\n",
    "    all_network_masks.append(mask[j])\n",
    "    all_masks.append(crf_mask[j])\n",
    "    \n",
    "all_masks = np.array(all_masks)\n",
    "all_inputs = np.array(all_inputs)\n",
    "all_network_masks = np.array(all_inputs)"
   ]
  },
  {
   "cell_type": "code",
   "execution_count": 7,
   "metadata": {},
   "outputs": [],
   "source": [
    "import skimage\n",
    "import matplotlib.pyplot as plt\n",
    "\n",
    "# Convert segmentation mask to RGB with colors averaged from the image\n",
    "def mask_to_rgb(mask, image):\n",
    "    mask = mask.argmax(0)\n",
    "    image = image.transpose(1,2,0)\n",
    "    mask_rgb = np.zeros(image.shape)\n",
    "    for i in range(1, mask.max()+1):\n",
    "        mask_rgb[mask==i] = image[mask==i].mean(0)\n",
    "    return mask_rgb\n",
    "\n",
    "# edge detection using sobel filter\n",
    "def sobel_edge_detection(image):\n",
    "    image = skimage.color.rgb2gray(image)\n",
    "    edges = skimage.filters.sobel(image)\n",
    "    return edges\n",
    "\n",
    "# segmentation mask to csv\n",
    "def mask_to_csv(mask):\n",
    "    mask = mask.argmax(0)\n",
    "    print(mask)"
   ]
  },
  {
   "cell_type": "code",
   "execution_count": 11,
   "metadata": {},
   "outputs": [
    {
     "name": "stderr",
     "output_type": "stream",
     "text": [
      "/tmp/ipykernel_49181/2182552978.py:10: RuntimeWarning: Mean of empty slice.\n",
      "  mask_rgb[mask==i] = image[mask==i].mean(0)\n"
     ]
    }
   ],
   "source": [
    "for i in range(all_masks.shape[0]):\n",
    "    mask = mask_to_rgb(all_masks[i], all_inputs[i])\n",
    "    mask = torch.from_numpy(mask).permute(2,0,1)\n",
    "    id = dataset.testset.image_paths[i].split(\"/\")[-1].split(\".\")[0]\n",
    "    mask = torchvision.transforms.functional.resize(mask, list(dataset.testset.image_sizes[i]), interpolation=torchvision.transforms.functional.InterpolationMode.NEAREST)\n",
    "    torchvision.utils.save_image(mask, f'outputs/png/{id}.png')\n",
    "    \n",
    "    # mask = mask_to_rgb(all_masks[i], all_inputs[i])\n",
    "    mask = (skimage.color.rgb2gray(mask.permute(1,2,0)) * 255).round()\n",
    "    colors = np.unique(mask)\n",
    "    for i,color in enumerate(colors):\n",
    "        mask[mask==color] = i\n",
    "    np.savetxt(f'outputs/csv/{id}.csv', mask, delimiter=',', fmt='%i')"
   ]
  },
  {
   "cell_type": "code",
   "execution_count": 17,
   "metadata": {},
   "outputs": [
    {
     "name": "stderr",
     "output_type": "stream",
     "text": [
      "100%|██████████| 200/200 [01:17<00:00,  2.59it/s]"
     ]
    },
    {
     "name": "stdout",
     "output_type": "stream",
     "text": [
      "Average (averaged over gt segmentations) mIOU:  0.1196948155581573\n",
      "Max (over gt segmentations) mIOU:  0.282910962329599\n"
     ]
    },
    {
     "name": "stderr",
     "output_type": "stream",
     "text": [
      "\n"
     ]
    }
   ],
   "source": [
    "from evaluation import calculate_mIOU\n",
    "\n",
    "average_mIOU, max_mIOU = calculate_mIOU(\"../BSDS500/gt\", \"outputs/csv\")\n",
    "print(\"Average (averaged over gt segmentations) mIOU: \", average_mIOU)\n",
    "print(\"Max (over gt segmentations) mIOU: \", max_mIOU)"
   ]
  },
  {
   "cell_type": "code",
   "execution_count": null,
   "metadata": {},
   "outputs": [],
   "source": []
  }
 ],
 "metadata": {
  "kernelspec": {
   "display_name": "Python 3.9.13 ('torch')",
   "language": "python",
   "name": "python3"
  },
  "language_info": {
   "codemirror_mode": {
    "name": "ipython",
    "version": 3
   },
   "file_extension": ".py",
   "mimetype": "text/x-python",
   "name": "python",
   "nbconvert_exporter": "python",
   "pygments_lexer": "ipython3",
   "version": "3.9.13"
  },
  "orig_nbformat": 4,
  "vscode": {
   "interpreter": {
    "hash": "62c1fc8ce564a981a915002e6920342d4f3cca917e7f319eb81efd20e068d558"
   }
  }
 },
 "nbformat": 4,
 "nbformat_minor": 2
}
